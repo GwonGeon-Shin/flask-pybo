{
 "cells": [
  {
   "cell_type": "markdown",
   "id": "308cd799",
   "metadata": {},
   "source": [
    "Untitled => 어찌어찌 실행가능 => Untitled1 에서는 제대로 기록"
   ]
  },
  {
   "cell_type": "markdown",
   "id": "437eaa17",
   "metadata": {},
   "source": [
    "데이터 변경하는것 테스트 해본다."
   ]
  },
  {
   "cell_type": "markdown",
   "id": "54dfa3a4",
   "metadata": {},
   "source": [
    "첫 참고"
   ]
  },
  {
   "cell_type": "markdown",
   "id": "3e3f7e10",
   "metadata": {},
   "source": [
    "https://programmers-sosin.tistory.com/entry/Flask-SQLAlchemy-SQLAlchemy%EB%A5%BC-%EC%82%AC%EC%9A%A9%ED%95%98%EC%97%AC-%EC%97%91%EC%85%80%ED%8C%8C%EC%9D%BC-%EB%8D%B0%EC%9D%B4%ED%84%B0%EB%A5%BC-DB%EC%97%90-%EB%84%A3%EA%B8%B0-1"
   ]
  },
  {
   "cell_type": "markdown",
   "id": "efdc45f0",
   "metadata": {},
   "source": [
    "에러 해결 한것"
   ]
  },
  {
   "cell_type": "markdown",
   "id": "79ccabb9",
   "metadata": {},
   "source": [
    "https://stackoverflow.com/questions/8870217/why-do-i-get-sqlalchemy-nested-rollback-error"
   ]
  },
  {
   "cell_type": "markdown",
   "id": "ea9c99cc",
   "metadata": {},
   "source": [
    "▼▼▼ 이하 예제 시작"
   ]
  },
  {
   "cell_type": "code",
   "execution_count": 1,
   "id": "55e6a8ac",
   "metadata": {},
   "outputs": [],
   "source": [
    "from pybo.models import User\n",
    "from pybo import db"
   ]
  },
  {
   "cell_type": "code",
   "execution_count": 2,
   "id": "5854c040",
   "metadata": {},
   "outputs": [],
   "source": [
    "from pybo.forms import UserCreateForm, UserLoginForm\n",
    "from flask import Blueprint, url_for, render_template, flash, request, session, g\n",
    "from werkzeug.security import generate_password_hash, check_password_hash\n",
    "from werkzeug.utils import redirect"
   ]
  },
  {
   "cell_type": "code",
   "execution_count": 3,
   "id": "020f7bb7",
   "metadata": {},
   "outputs": [],
   "source": [
    "from flask import Flask\n",
    "from flask_migrate import Migrate\n",
    "from flask_sqlalchemy import SQLAlchemy\n",
    "from sqlalchemy import MetaData\n",
    "import config\n",
    "import config\n"
   ]
  },
  {
   "cell_type": "code",
   "execution_count": 4,
   "id": "6e6470d5",
   "metadata": {},
   "outputs": [],
   "source": [
    "from pybo import db\n",
    "import pybo"
   ]
  },
  {
   "cell_type": "code",
   "execution_count": 5,
   "id": "d46b32df",
   "metadata": {},
   "outputs": [],
   "source": [
    "from openpyxl import load_workbook\n",
    "from pybo.models import User\n",
    "from datetime import datetime\n",
    "from pybo import db, create_app\n",
    "import pybo"
   ]
  },
  {
   "cell_type": "markdown",
   "id": "299cdfaa",
   "metadata": {},
   "source": [
    "▼▼▼ 예제중에 이게 있어야 했다."
   ]
  },
  {
   "cell_type": "code",
   "execution_count": 6,
   "id": "ba289e24",
   "metadata": {},
   "outputs": [],
   "source": [
    "from pybo import create_app\n",
    "pybo = create_app()\n",
    "pybo.app_context().push()"
   ]
  },
  {
   "cell_type": "markdown",
   "id": "b9857c42",
   "metadata": {},
   "source": [
    "▲▲▲ 예제중에 이게 있어야 했다."
   ]
  },
  {
   "cell_type": "code",
   "execution_count": 18,
   "id": "e370aed9",
   "metadata": {},
   "outputs": [
    {
     "name": "stdout",
     "output_type": "stream",
     "text": [
      "14\n"
     ]
    }
   ],
   "source": [
    "print(User.query.count())"
   ]
  },
  {
   "cell_type": "code",
   "execution_count": 12,
   "id": "41ced9ac",
   "metadata": {},
   "outputs": [],
   "source": [
    "\n",
    "app = Flask(__name__)\n",
    "app.config.from_object(config)\n",
    "    #app.config 환경 변수로 부르기 위해 app.config.from_object(config)코드를 추가함"
   ]
  },
  {
   "cell_type": "code",
   "execution_count": 44,
   "id": "a1501ad4",
   "metadata": {},
   "outputs": [
    {
     "name": "stdout",
     "output_type": "stream",
     "text": [
      "5\n",
      "<User (transient 2597423975248)>\n",
      "6\n"
     ]
    }
   ],
   "source": [
    "with app.app_context():\n",
    "    print(User.query.count())\n",
    "    try:\n",
    "        user = User(username='shin12350', password='shin_123450', email='shin50@naver.com')\n",
    "        print(user)\n",
    "        db.session.add(user)\n",
    "        db.session.commit()\n",
    "        print(User.query.count())\n",
    "    except:\n",
    "        db.session.rollback()\n",
    "        raise\n",
    "    finally:\n",
    "        db.session.close()\n",
    "    #db.create_all()"
   ]
  },
  {
   "cell_type": "code",
   "execution_count": 49,
   "id": "cb1274cd",
   "metadata": {},
   "outputs": [
    {
     "name": "stdout",
     "output_type": "stream",
     "text": [
      "7\n",
      "<User (transient 2597424733200)>\n",
      "8\n",
      "사용자 정보를 생성 하였습니다.\n",
      "종료\n"
     ]
    }
   ],
   "source": [
    "with app.app_context():\n",
    "    print(User.query.count())\n",
    "    try:\n",
    "        user = User(username='shin12352', password='shin_123452', email='shin52@naver.com')\n",
    "        print(user)\n",
    "        db.session.add(user)\n",
    "        db.session.commit()\n",
    "        print(User.query.count())\n",
    "        print('사용자 정보를 생성 하였습니다.')\n",
    "    except:\n",
    "        db.session.rollback()\n",
    "        #raise\n",
    "        print('사용중인 사용자 정보가 있습니다.')\n",
    "        pass\n",
    "    finally:\n",
    "        db.session.close()\n",
    "    #db.create_all()\n",
    "print('종료')"
   ]
  },
  {
   "cell_type": "markdown",
   "id": "ca735e60",
   "metadata": {},
   "source": [
    "이제 연속해서 하는걸 해보자"
   ]
  },
  {
   "cell_type": "markdown",
   "id": "63ee2f7d",
   "metadata": {},
   "source": [
    "원래 볼려고했던 최초 예제 참고"
   ]
  },
  {
   "cell_type": "code",
   "execution_count": 27,
   "id": "3f5698e3",
   "metadata": {},
   "outputs": [],
   "source": [
    "from openpyxl import load_workbook"
   ]
  },
  {
   "cell_type": "code",
   "execution_count": 32,
   "id": "cdca9d09",
   "metadata": {},
   "outputs": [],
   "source": [
    "wb = load_workbook(filename='db_test.xlsx')\n",
    "ws = wb.active"
   ]
  },
  {
   "cell_type": "code",
   "execution_count": 33,
   "id": "5d7e15f8",
   "metadata": {},
   "outputs": [
    {
     "data": {
      "text/plain": [
       "<Worksheet \"Sheet1\">"
      ]
     },
     "execution_count": 33,
     "metadata": {},
     "output_type": "execute_result"
    }
   ],
   "source": [
    "ws"
   ]
  },
  {
   "cell_type": "code",
   "execution_count": 34,
   "id": "19687a64",
   "metadata": {},
   "outputs": [
    {
     "name": "stdout",
     "output_type": "stream",
     "text": [
      "20\n"
     ]
    }
   ],
   "source": [
    "print(User.query.count())"
   ]
  },
  {
   "cell_type": "code",
   "execution_count": 35,
   "id": "086ab33d",
   "metadata": {},
   "outputs": [
    {
     "name": "stdout",
     "output_type": "stream",
     "text": [
      "최초 시작시 User모델 데이터 개수 :  20\n",
      "<User (transient 2788504735120)>\n",
      "입력에 에러가 발생 하였습니다.\n",
      "0  번째 작업을 종료 합니다.\n",
      "==========\n",
      "<User (transient 2788492368432)>\n",
      "입력에 에러가 발생 하였습니다.\n",
      "1  번째 작업을 종료 합니다.\n",
      "==========\n",
      "<User (transient 2788504493984)>\n",
      "입력에 에러가 발생 하였습니다.\n",
      "2  번째 작업을 종료 합니다.\n",
      "==========\n",
      "<User (transient 2788504735504)>\n",
      "입력에 에러가 발생 하였습니다.\n",
      "3  번째 작업을 종료 합니다.\n",
      "==========\n",
      "<User (transient 2788504599952)>\n",
      "입력에 에러가 발생 하였습니다.\n",
      "4  번째 작업을 종료 합니다.\n",
      "==========\n",
      "<User (transient 2788504694016)>\n",
      "입력에 에러가 발생 하였습니다.\n",
      "5  번째 작업을 종료 합니다.\n",
      "==========\n",
      "<User (transient 2788504597072)>\n",
      "입력에 에러가 발생 하였습니다.\n",
      "6  번째 작업을 종료 합니다.\n",
      "==========\n",
      "<User (transient 2788492356000)>\n",
      "입력에 에러가 발생 하였습니다.\n",
      "7  번째 작업을 종료 합니다.\n",
      "==========\n",
      "<User (transient 2788504598368)>\n",
      "입력에 에러가 발생 하였습니다.\n",
      "8  번째 작업을 종료 합니다.\n",
      "==========\n",
      "<User (transient 2788504598080)>\n",
      "입력에 에러가 발생 하였습니다.\n",
      "9  번째 작업을 종료 합니다.\n",
      "==========\n",
      "<User (transient 2788504490192)>\n",
      "입력에 에러가 발생 하였습니다.\n",
      "10  번째 작업을 종료 합니다.\n",
      "==========\n",
      "최종 작업 이후 User모델 데이터 개수 :  20\n"
     ]
    }
   ],
   "source": [
    "a = 0\n",
    "with app.app_context():\n",
    "    print('최초 시작시 User모델 데이터 개수 : ',User.query.count())\n",
    "    for row in range(1, ws.max_row+1):\n",
    "        try:\n",
    "            #user = User(username='shin12352', password='shin_123452', email='shin52@naver.com')\n",
    "            user = User(username=ws.cell(row,1).value, password=ws.cell(row,2).value, email=ws.cell(row,3).value)\n",
    "            print(user)\n",
    "            db.session.add(user)\n",
    "            db.session.commit()\n",
    "            print('사용자 정보를 생성 하였습니다.')\n",
    "        except:\n",
    "            db.session.rollback()\n",
    "            print('입력에 에러가 발생 하였습니다.')\n",
    "            pass\n",
    "        finally:\n",
    "            db.session.close()\n",
    "        print(a,\" 번째 작업을 종료 합니다.\")\n",
    "        a = a+1\n",
    "        print('='*10)\n",
    "\n",
    "print(\"최종 작업 이후 User모델 데이터 개수 : \", User.query.count())"
   ]
  },
  {
   "cell_type": "code",
   "execution_count": null,
   "id": "0c517a71",
   "metadata": {},
   "outputs": [],
   "source": [
    "a = 0\n",
    "for row in range(1, ws.max_row+1):\n",
    "    #print(a)\n",
    "    vegan = ws.cell(row,1).value\n",
    "    print(vegan)\n",
    "    a = a+1\n",
    "    print(\"종료시점 a : \" ,a)\n",
    "    print(\"=\"*10)"
   ]
  },
  {
   "cell_type": "code",
   "execution_count": null,
   "id": "c3eccb9f",
   "metadata": {},
   "outputs": [],
   "source": [
    "with app.app_context():\n",
    "    print(User.query.count())\n",
    "    try:\n",
    "        user = User(username='shin12352', password='shin_123452', email='shin52@naver.com')\n",
    "        print(user)\n",
    "        db.session.add(user)\n",
    "        db.session.commit()\n",
    "        print(User.query.count())\n",
    "        print('사용자 정보를 생성 하였습니다.')\n",
    "    except:\n",
    "        db.session.rollback()\n",
    "        #raise\n",
    "        print('사용중인 사용자 정보가 있습니다.')\n",
    "        pass\n",
    "    finally:\n",
    "        db.session.close()\n",
    "    #db.create_all()\n",
    "print('종료')"
   ]
  }
 ],
 "metadata": {
  "kernelspec": {
   "display_name": "Python 3 (ipykernel)",
   "language": "python",
   "name": "python3"
  },
  "language_info": {
   "codemirror_mode": {
    "name": "ipython",
    "version": 3
   },
   "file_extension": ".py",
   "mimetype": "text/x-python",
   "name": "python",
   "nbconvert_exporter": "python",
   "pygments_lexer": "ipython3",
   "version": "3.8.11"
  }
 },
 "nbformat": 4,
 "nbformat_minor": 5
}
