{
 "cells": [
  {
   "cell_type": "markdown",
   "id": "6875fb17",
   "metadata": {},
   "source": [
    "data_input_excel_to_db 버전에서는 db 갯수 조회와 add하는것을 적용시켰다."
   ]
  },
  {
   "cell_type": "markdown",
   "id": "ed715f56",
   "metadata": {},
   "source": [
    "data_input_excel_to_db_02 버전에서는 기존 db 갯수 조회 및 삭제, 이후 add 시키는것을 적용시킨다."
   ]
  },
  {
   "cell_type": "markdown",
   "id": "592fd993",
   "metadata": {},
   "source": [
    "data_input_excel_to_db_03 버전에서는 기존 데이터 입력 방식의 개선을 진행한다.(0719추가 내용 확인)"
   ]
  },
  {
   "cell_type": "markdown",
   "id": "8f33b400",
   "metadata": {},
   "source": [
    "ㄴ> 기존 기능 내용에 대해 풀어서 표시된것은 data_input_excel_to_db_02_for test <-- 를 참고하자"
   ]
  },
  {
   "cell_type": "markdown",
   "id": "973a26f3",
   "metadata": {},
   "source": [
    "▼▼▼ 이하 예제 시작(question_list에 적용하는것 => ss_project 적용)"
   ]
  },
  {
   "cell_type": "code",
   "execution_count": null,
   "id": "63bc8acd",
   "metadata": {},
   "outputs": [],
   "source": [
    "#데이터 삭제 구현 완료 , 중간 하드코딩 건너띄고, 연속 데이터 입력 적용 확인"
   ]
  },
  {
   "cell_type": "code",
   "execution_count": 1,
   "id": "be509649",
   "metadata": {},
   "outputs": [],
   "source": [
    "from pybo.models import Question, User\n",
    "from pybo import db\n",
    "\n",
    "from flask import Blueprint, url_for, render_template, flash, request, session\n",
    "\n",
    "from werkzeug.security import generate_password_hash, check_password_hash\n",
    "from werkzeug.utils import redirect\n",
    "\n",
    "from flask import Flask\n",
    "from flask_migrate import Migrate\n",
    "from flask_sqlalchemy import SQLAlchemy\n",
    "from sqlalchemy import MetaData\n",
    "import config\n",
    "\n",
    "import pybo\n",
    "\n",
    "from openpyxl import load_workbook\n",
    "from datetime import datetime\n",
    "from pybo import db, create_app\n",
    "\n",
    "from pybo import create_app\n",
    "pybo = create_app()\n",
    "pybo.app_context().push()"
   ]
  },
  {
   "cell_type": "code",
   "execution_count": 2,
   "id": "1bc0ecc9",
   "metadata": {},
   "outputs": [
    {
     "name": "stdout",
     "output_type": "stream",
     "text": [
      "20\n"
     ]
    }
   ],
   "source": [
    "print(Question.query.count())"
   ]
  },
  {
   "cell_type": "code",
   "execution_count": 3,
   "id": "c3db707f",
   "metadata": {},
   "outputs": [
    {
     "name": "stdout",
     "output_type": "stream",
     "text": [
      "9\n"
     ]
    }
   ],
   "source": [
    "print(User.query.count())"
   ]
  },
  {
   "cell_type": "code",
   "execution_count": 4,
   "id": "e4edf810",
   "metadata": {},
   "outputs": [],
   "source": [
    "app = Flask(__name__)\n",
    "app.config.from_object(config)\n",
    "    #app.config 환경 변수로 부르기 위해 app.config.from_object(config)코드를 추가함"
   ]
  },
  {
   "cell_type": "code",
   "execution_count": null,
   "id": "7698ba10",
   "metadata": {},
   "outputs": [],
   "source": [
    "#위에 까지가 기본 세팅 완료"
   ]
  },
  {
   "cell_type": "code",
   "execution_count": null,
   "id": "5b573f4f",
   "metadata": {},
   "outputs": [],
   "source": []
  },
  {
   "cell_type": "code",
   "execution_count": null,
   "id": "760958e1",
   "metadata": {},
   "outputs": [],
   "source": [
    "#user 관련 확인용_220623"
   ]
  },
  {
   "cell_type": "code",
   "execution_count": 8,
   "id": "efdd4251",
   "metadata": {},
   "outputs": [],
   "source": [
    "user_list_00=User.query.all()"
   ]
  },
  {
   "cell_type": "code",
   "execution_count": 9,
   "id": "8bba2ffb",
   "metadata": {},
   "outputs": [
    {
     "data": {
      "text/plain": [
       "[<User 2>, <User 4>, <User 6>, <User 7>, <User 8>]"
      ]
     },
     "execution_count": 9,
     "metadata": {},
     "output_type": "execute_result"
    }
   ],
   "source": [
    "user_list_00"
   ]
  },
  {
   "cell_type": "code",
   "execution_count": 10,
   "id": "cf5f969a",
   "metadata": {},
   "outputs": [],
   "source": [
    "a_user = user_list_00[0]"
   ]
  },
  {
   "cell_type": "code",
   "execution_count": 11,
   "id": "e6216431",
   "metadata": {},
   "outputs": [
    {
     "data": {
      "text/plain": [
       "<User 2>"
      ]
     },
     "execution_count": 11,
     "metadata": {},
     "output_type": "execute_result"
    }
   ],
   "source": [
    "a_user"
   ]
  },
  {
   "cell_type": "code",
   "execution_count": 12,
   "id": "b2da8452",
   "metadata": {},
   "outputs": [
    {
     "data": {
      "text/plain": [
       "'관리자02'"
      ]
     },
     "execution_count": 12,
     "metadata": {},
     "output_type": "execute_result"
    }
   ],
   "source": [
    "a_user.username"
   ]
  },
  {
   "cell_type": "code",
   "execution_count": null,
   "id": "e9662076",
   "metadata": {},
   "outputs": [],
   "source": []
  },
  {
   "cell_type": "code",
   "execution_count": null,
   "id": "ba4ec47c",
   "metadata": {},
   "outputs": [],
   "source": []
  },
  {
   "cell_type": "code",
   "execution_count": null,
   "id": "63c26db1",
   "metadata": {},
   "outputs": [],
   "source": [
    "# 데이터 삭제시 각 내용을 리스트화 해서 id값이 다르게 점프해도 삭제할수 있도록"
   ]
  },
  {
   "cell_type": "code",
   "execution_count": 30,
   "id": "ec790aaf",
   "metadata": {},
   "outputs": [],
   "source": [
    "query_list_00=Question.query.all()"
   ]
  },
  {
   "cell_type": "code",
   "execution_count": 32,
   "id": "44a974ae",
   "metadata": {},
   "outputs": [
    {
     "data": {
      "text/plain": [
       "899"
      ]
     },
     "execution_count": 32,
     "metadata": {},
     "output_type": "execute_result"
    }
   ],
   "source": [
    "len(query_list_00)"
   ]
  },
  {
   "cell_type": "code",
   "execution_count": 33,
   "id": "35f44e77",
   "metadata": {},
   "outputs": [
    {
     "data": {
      "text/plain": [
       "<Question 1>"
      ]
     },
     "execution_count": 33,
     "metadata": {},
     "output_type": "execute_result"
    }
   ],
   "source": [
    "query_list_00[0]"
   ]
  },
  {
   "cell_type": "code",
   "execution_count": 20,
   "id": "1731c192",
   "metadata": {},
   "outputs": [
    {
     "name": "stdout",
     "output_type": "stream",
     "text": [
      "<Question 1000>\n"
     ]
    }
   ],
   "source": [
    "query_test=Question.query.get(1000)\n",
    "print(query_test)"
   ]
  },
  {
   "cell_type": "code",
   "execution_count": null,
   "id": "484a3119",
   "metadata": {},
   "outputs": [],
   "source": [
    "# 데이터 삭제시 각 내용을 리스트화 해서 id값이 다르게 점프해도 삭제할수 있도록"
   ]
  },
  {
   "cell_type": "code",
   "execution_count": null,
   "id": "0b07ecdf",
   "metadata": {},
   "outputs": [],
   "source": [
    "# 개선 내용 테스트 해본다."
   ]
  },
  {
   "cell_type": "code",
   "execution_count": 96,
   "id": "d219032f",
   "metadata": {},
   "outputs": [
    {
     "ename": "PendingRollbackError",
     "evalue": "This Session's transaction has been rolled back due to a previous exception during flush. To begin a new transaction with this Session, first issue Session.rollback(). Original exception was: (sqlite3.OperationalError) database is locked\n[SQL: DELETE FROM question WHERE question.id = ?]\n[parameters: (1,)]\n(Background on this error at: https://sqlalche.me/e/14/e3q8) (Background on this error at: https://sqlalche.me/e/14/7s2a)",
     "output_type": "error",
     "traceback": [
      "\u001b[1;31m---------------------------------------------------------------------------\u001b[0m",
      "\u001b[1;31mPendingRollbackError\u001b[0m                      Traceback (most recent call last)",
      "Input \u001b[1;32mIn [96]\u001b[0m, in \u001b[0;36m<cell line: 3>\u001b[1;34m()\u001b[0m\n\u001b[0;32m      1\u001b[0m \u001b[38;5;66;03m### 데이터 삭제 기능 개선_리스트화 적용\u001b[39;00m\n\u001b[0;32m      2\u001b[0m data_count \u001b[38;5;241m=\u001b[39m \u001b[38;5;241m0\u001b[39m\n\u001b[1;32m----> 3\u001b[0m query_list_00\u001b[38;5;241m=\u001b[39m\u001b[43mQuestion\u001b[49m\u001b[38;5;241;43m.\u001b[39;49m\u001b[43mquery\u001b[49m\u001b[38;5;241;43m.\u001b[39;49m\u001b[43mall\u001b[49m\u001b[43m(\u001b[49m\u001b[43m)\u001b[49m\n\u001b[0;32m      5\u001b[0m \u001b[38;5;28;01mwith\u001b[39;00m app\u001b[38;5;241m.\u001b[39mapp_context():\n\u001b[0;32m      6\u001b[0m     \u001b[38;5;28mprint\u001b[39m(\u001b[38;5;124m'\u001b[39m\u001b[38;5;124m최초 시작시 Question모델 데이터 개수 : \u001b[39m\u001b[38;5;124m'\u001b[39m, Question\u001b[38;5;241m.\u001b[39mquery\u001b[38;5;241m.\u001b[39mcount())\n",
      "File \u001b[1;32mC:\\ProgramData\\Anaconda3\\lib\\site-packages\\sqlalchemy\\orm\\query.py:2759\u001b[0m, in \u001b[0;36mQuery.all\u001b[1;34m(self)\u001b[0m\n\u001b[0;32m   2743\u001b[0m \u001b[38;5;28;01mdef\u001b[39;00m \u001b[38;5;21mall\u001b[39m(\u001b[38;5;28mself\u001b[39m):\n\u001b[0;32m   2744\u001b[0m     \u001b[38;5;124;03m\"\"\"Return the results represented by this :class:`_query.Query`\u001b[39;00m\n\u001b[0;32m   2745\u001b[0m \u001b[38;5;124;03m    as a list.\u001b[39;00m\n\u001b[0;32m   2746\u001b[0m \n\u001b[1;32m   (...)\u001b[0m\n\u001b[0;32m   2757\u001b[0m \u001b[38;5;124;03m            :ref:`faq_query_deduplicating`\u001b[39;00m\n\u001b[0;32m   2758\u001b[0m \u001b[38;5;124;03m    \"\"\"\u001b[39;00m\n\u001b[1;32m-> 2759\u001b[0m     \u001b[38;5;28;01mreturn\u001b[39;00m \u001b[38;5;28;43mself\u001b[39;49m\u001b[38;5;241;43m.\u001b[39;49m\u001b[43m_iter\u001b[49m\u001b[43m(\u001b[49m\u001b[43m)\u001b[49m\u001b[38;5;241m.\u001b[39mall()\n",
      "File \u001b[1;32mC:\\ProgramData\\Anaconda3\\lib\\site-packages\\sqlalchemy\\orm\\query.py:2894\u001b[0m, in \u001b[0;36mQuery._iter\u001b[1;34m(self)\u001b[0m\n\u001b[0;32m   2891\u001b[0m params \u001b[38;5;241m=\u001b[39m \u001b[38;5;28mself\u001b[39m\u001b[38;5;241m.\u001b[39m_params\n\u001b[0;32m   2893\u001b[0m statement \u001b[38;5;241m=\u001b[39m \u001b[38;5;28mself\u001b[39m\u001b[38;5;241m.\u001b[39m_statement_20()\n\u001b[1;32m-> 2894\u001b[0m result \u001b[38;5;241m=\u001b[39m \u001b[38;5;28;43mself\u001b[39;49m\u001b[38;5;241;43m.\u001b[39;49m\u001b[43msession\u001b[49m\u001b[38;5;241;43m.\u001b[39;49m\u001b[43mexecute\u001b[49m\u001b[43m(\u001b[49m\n\u001b[0;32m   2895\u001b[0m \u001b[43m    \u001b[49m\u001b[43mstatement\u001b[49m\u001b[43m,\u001b[49m\n\u001b[0;32m   2896\u001b[0m \u001b[43m    \u001b[49m\u001b[43mparams\u001b[49m\u001b[43m,\u001b[49m\n\u001b[0;32m   2897\u001b[0m \u001b[43m    \u001b[49m\u001b[43mexecution_options\u001b[49m\u001b[38;5;241;43m=\u001b[39;49m\u001b[43m{\u001b[49m\u001b[38;5;124;43m\"\u001b[39;49m\u001b[38;5;124;43m_sa_orm_load_options\u001b[39;49m\u001b[38;5;124;43m\"\u001b[39;49m\u001b[43m:\u001b[49m\u001b[43m \u001b[49m\u001b[38;5;28;43mself\u001b[39;49m\u001b[38;5;241;43m.\u001b[39;49m\u001b[43mload_options\u001b[49m\u001b[43m}\u001b[49m\u001b[43m,\u001b[49m\n\u001b[0;32m   2898\u001b[0m \u001b[43m\u001b[49m\u001b[43m)\u001b[49m\n\u001b[0;32m   2900\u001b[0m \u001b[38;5;66;03m# legacy: automatically set scalars, unique\u001b[39;00m\n\u001b[0;32m   2901\u001b[0m \u001b[38;5;28;01mif\u001b[39;00m result\u001b[38;5;241m.\u001b[39m_attributes\u001b[38;5;241m.\u001b[39mget(\u001b[38;5;124m\"\u001b[39m\u001b[38;5;124mis_single_entity\u001b[39m\u001b[38;5;124m\"\u001b[39m, \u001b[38;5;28;01mFalse\u001b[39;00m):\n",
      "File \u001b[1;32mC:\\ProgramData\\Anaconda3\\lib\\site-packages\\sqlalchemy\\orm\\session.py:1691\u001b[0m, in \u001b[0;36mSession.execute\u001b[1;34m(self, statement, params, execution_options, bind_arguments, _parent_execute_state, _add_event, **kw)\u001b[0m\n\u001b[0;32m   1687\u001b[0m     execution_options \u001b[38;5;241m=\u001b[39m execution_options\u001b[38;5;241m.\u001b[39munion(\n\u001b[0;32m   1688\u001b[0m         \u001b[38;5;28mdict\u001b[39m(future_result\u001b[38;5;241m=\u001b[39m\u001b[38;5;28;01mFalse\u001b[39;00m)\n\u001b[0;32m   1689\u001b[0m     )\n\u001b[0;32m   1690\u001b[0m \u001b[38;5;28;01melse\u001b[39;00m:\n\u001b[1;32m-> 1691\u001b[0m     conn \u001b[38;5;241m=\u001b[39m \u001b[38;5;28;43mself\u001b[39;49m\u001b[38;5;241;43m.\u001b[39;49m\u001b[43m_connection_for_bind\u001b[49m\u001b[43m(\u001b[49m\u001b[43mbind\u001b[49m\u001b[43m)\u001b[49m\n\u001b[0;32m   1692\u001b[0m result \u001b[38;5;241m=\u001b[39m conn\u001b[38;5;241m.\u001b[39m_execute_20(statement, params \u001b[38;5;129;01mor\u001b[39;00m {}, execution_options)\n\u001b[0;32m   1694\u001b[0m \u001b[38;5;28;01mif\u001b[39;00m compile_state_cls:\n",
      "File \u001b[1;32mC:\\ProgramData\\Anaconda3\\lib\\site-packages\\sqlalchemy\\orm\\session.py:1532\u001b[0m, in \u001b[0;36mSession._connection_for_bind\u001b[1;34m(self, engine, execution_options, **kw)\u001b[0m\n\u001b[0;32m   1529\u001b[0m TransactionalContext\u001b[38;5;241m.\u001b[39m_trans_ctx_check(\u001b[38;5;28mself\u001b[39m)\n\u001b[0;32m   1531\u001b[0m \u001b[38;5;28;01mif\u001b[39;00m \u001b[38;5;28mself\u001b[39m\u001b[38;5;241m.\u001b[39m_transaction \u001b[38;5;129;01mis\u001b[39;00m \u001b[38;5;129;01mnot\u001b[39;00m \u001b[38;5;28;01mNone\u001b[39;00m \u001b[38;5;129;01mor\u001b[39;00m \u001b[38;5;28mself\u001b[39m\u001b[38;5;241m.\u001b[39m_autobegin():\n\u001b[1;32m-> 1532\u001b[0m     \u001b[38;5;28;01mreturn\u001b[39;00m \u001b[38;5;28;43mself\u001b[39;49m\u001b[38;5;241;43m.\u001b[39;49m\u001b[43m_transaction\u001b[49m\u001b[38;5;241;43m.\u001b[39;49m\u001b[43m_connection_for_bind\u001b[49m\u001b[43m(\u001b[49m\n\u001b[0;32m   1533\u001b[0m \u001b[43m        \u001b[49m\u001b[43mengine\u001b[49m\u001b[43m,\u001b[49m\u001b[43m \u001b[49m\u001b[43mexecution_options\u001b[49m\n\u001b[0;32m   1534\u001b[0m \u001b[43m    \u001b[49m\u001b[43m)\u001b[49m\n\u001b[0;32m   1536\u001b[0m \u001b[38;5;28;01massert\u001b[39;00m \u001b[38;5;28mself\u001b[39m\u001b[38;5;241m.\u001b[39m_transaction \u001b[38;5;129;01mis\u001b[39;00m \u001b[38;5;28;01mNone\u001b[39;00m\n\u001b[0;32m   1537\u001b[0m \u001b[38;5;28;01massert\u001b[39;00m \u001b[38;5;28mself\u001b[39m\u001b[38;5;241m.\u001b[39mautocommit\n",
      "File \u001b[1;32mC:\\ProgramData\\Anaconda3\\lib\\site-packages\\sqlalchemy\\orm\\session.py:721\u001b[0m, in \u001b[0;36mSessionTransaction._connection_for_bind\u001b[1;34m(self, bind, execution_options)\u001b[0m\n\u001b[0;32m    720\u001b[0m \u001b[38;5;28;01mdef\u001b[39;00m \u001b[38;5;21m_connection_for_bind\u001b[39m(\u001b[38;5;28mself\u001b[39m, bind, execution_options):\n\u001b[1;32m--> 721\u001b[0m     \u001b[38;5;28;43mself\u001b[39;49m\u001b[38;5;241;43m.\u001b[39;49m\u001b[43m_assert_active\u001b[49m\u001b[43m(\u001b[49m\u001b[43m)\u001b[49m\n\u001b[0;32m    723\u001b[0m     \u001b[38;5;28;01mif\u001b[39;00m bind \u001b[38;5;129;01min\u001b[39;00m \u001b[38;5;28mself\u001b[39m\u001b[38;5;241m.\u001b[39m_connections:\n\u001b[0;32m    724\u001b[0m         \u001b[38;5;28;01mif\u001b[39;00m execution_options:\n",
      "File \u001b[1;32mC:\\ProgramData\\Anaconda3\\lib\\site-packages\\sqlalchemy\\orm\\session.py:601\u001b[0m, in \u001b[0;36mSessionTransaction._assert_active\u001b[1;34m(self, prepared_ok, rollback_ok, deactive_ok, closed_msg)\u001b[0m\n\u001b[0;32m    599\u001b[0m \u001b[38;5;28;01mif\u001b[39;00m \u001b[38;5;129;01mnot\u001b[39;00m deactive_ok \u001b[38;5;129;01mand\u001b[39;00m \u001b[38;5;129;01mnot\u001b[39;00m rollback_ok:\n\u001b[0;32m    600\u001b[0m     \u001b[38;5;28;01mif\u001b[39;00m \u001b[38;5;28mself\u001b[39m\u001b[38;5;241m.\u001b[39m_rollback_exception:\n\u001b[1;32m--> 601\u001b[0m         \u001b[38;5;28;01mraise\u001b[39;00m sa_exc\u001b[38;5;241m.\u001b[39mPendingRollbackError(\n\u001b[0;32m    602\u001b[0m             \u001b[38;5;124m\"\u001b[39m\u001b[38;5;124mThis Session\u001b[39m\u001b[38;5;124m'\u001b[39m\u001b[38;5;124ms transaction has been rolled back \u001b[39m\u001b[38;5;124m\"\u001b[39m\n\u001b[0;32m    603\u001b[0m             \u001b[38;5;124m\"\u001b[39m\u001b[38;5;124mdue to a previous exception during flush.\u001b[39m\u001b[38;5;124m\"\u001b[39m\n\u001b[0;32m    604\u001b[0m             \u001b[38;5;124m\"\u001b[39m\u001b[38;5;124m To begin a new transaction with this Session, \u001b[39m\u001b[38;5;124m\"\u001b[39m\n\u001b[0;32m    605\u001b[0m             \u001b[38;5;124m\"\u001b[39m\u001b[38;5;124mfirst issue Session.rollback().\u001b[39m\u001b[38;5;124m\"\u001b[39m\n\u001b[0;32m    606\u001b[0m             \u001b[38;5;124m\"\u001b[39m\u001b[38;5;124m Original exception was: \u001b[39m\u001b[38;5;132;01m%s\u001b[39;00m\u001b[38;5;124m\"\u001b[39m\n\u001b[0;32m    607\u001b[0m             \u001b[38;5;241m%\u001b[39m \u001b[38;5;28mself\u001b[39m\u001b[38;5;241m.\u001b[39m_rollback_exception,\n\u001b[0;32m    608\u001b[0m             code\u001b[38;5;241m=\u001b[39m\u001b[38;5;124m\"\u001b[39m\u001b[38;5;124m7s2a\u001b[39m\u001b[38;5;124m\"\u001b[39m,\n\u001b[0;32m    609\u001b[0m         )\n\u001b[0;32m    610\u001b[0m     \u001b[38;5;28;01melif\u001b[39;00m \u001b[38;5;129;01mnot\u001b[39;00m deactive_ok:\n\u001b[0;32m    611\u001b[0m         \u001b[38;5;28;01mraise\u001b[39;00m sa_exc\u001b[38;5;241m.\u001b[39mInvalidRequestError(\n\u001b[0;32m    612\u001b[0m             \u001b[38;5;124m\"\u001b[39m\u001b[38;5;124mThis session is in \u001b[39m\u001b[38;5;124m'\u001b[39m\u001b[38;5;124minactive\u001b[39m\u001b[38;5;124m'\u001b[39m\u001b[38;5;124m state, due to the \u001b[39m\u001b[38;5;124m\"\u001b[39m\n\u001b[0;32m    613\u001b[0m             \u001b[38;5;124m\"\u001b[39m\u001b[38;5;124mSQL transaction being rolled back; no further \u001b[39m\u001b[38;5;124m\"\u001b[39m\n\u001b[0;32m    614\u001b[0m             \u001b[38;5;124m\"\u001b[39m\u001b[38;5;124mSQL can be emitted within this transaction.\u001b[39m\u001b[38;5;124m\"\u001b[39m\n\u001b[0;32m    615\u001b[0m         )\n",
      "\u001b[1;31mPendingRollbackError\u001b[0m: This Session's transaction has been rolled back due to a previous exception during flush. To begin a new transaction with this Session, first issue Session.rollback(). Original exception was: (sqlite3.OperationalError) database is locked\n[SQL: DELETE FROM question WHERE question.id = ?]\n[parameters: (1,)]\n(Background on this error at: https://sqlalche.me/e/14/e3q8) (Background on this error at: https://sqlalche.me/e/14/7s2a)"
     ]
    }
   ],
   "source": [
    "### 데이터 삭제 기능 개선_리스트화 적용\n",
    "data_count = 0\n",
    "query_list_00=Question.query.all()\n",
    "\n",
    "with app.app_context():\n",
    "    print('최초 시작시 Question모델 데이터 개수 : ', Question.query.count())\n",
    "    query_count_num = Question.query.count()\n",
    "    \n",
    "    for query_del_num in range(query_count_num):\n",
    "        query_del_test = query_list_00[query_del_num]\n",
    "        db.session.delete(query_del_test)\n",
    "        db.session.commit()\n",
    "        db.session.close()\n",
    "        data_count = data_count+1\n",
    "    \n",
    "print(\"최종 작업 이후 Question모델 데이터 개수 : \", Question.query.count())\n",
    "print(\"작업 진행 데이터 개수 : \", data_count)"
   ]
  },
  {
   "cell_type": "markdown",
   "id": "a193e0c3",
   "metadata": {},
   "source": [
    "ㄴ> 기존버전의 id값 기준 삭제하는 부분을 제거 하였다."
   ]
  },
  {
   "cell_type": "code",
   "execution_count": null,
   "id": "cf7af1c2",
   "metadata": {},
   "outputs": [],
   "source": [
    "### 입력 부분 기능 시작"
   ]
  },
  {
   "cell_type": "markdown",
   "id": "05f6d83c",
   "metadata": {},
   "source": [
    "이제 연속해서 하는걸 해보자"
   ]
  },
  {
   "cell_type": "markdown",
   "id": "991489f7",
   "metadata": {},
   "source": [
    "▼▼▼▼ 데이터 입력부 시작"
   ]
  },
  {
   "cell_type": "code",
   "execution_count": 5,
   "id": "a5bec312",
   "metadata": {},
   "outputs": [],
   "source": [
    "from openpyxl import load_workbook"
   ]
  },
  {
   "cell_type": "code",
   "execution_count": 6,
   "id": "64a7356c",
   "metadata": {},
   "outputs": [
    {
     "data": {
      "text/plain": [
       "<Worksheet \"Sheet1\">"
      ]
     },
     "execution_count": 6,
     "metadata": {},
     "output_type": "execute_result"
    }
   ],
   "source": [
    "wb = load_workbook(filename='db_test.xlsx')\n",
    "ws = wb.active\n",
    "ws"
   ]
  },
  {
   "cell_type": "code",
   "execution_count": 7,
   "id": "bb5a8c57",
   "metadata": {},
   "outputs": [
    {
     "name": "stdout",
     "output_type": "stream",
     "text": [
      "20\n"
     ]
    }
   ],
   "source": [
    "print(Question.query.count())"
   ]
  },
  {
   "cell_type": "code",
   "execution_count": 19,
   "id": "b6f6e577",
   "metadata": {
    "scrolled": true
   },
   "outputs": [
    {
     "name": "stdout",
     "output_type": "stream",
     "text": [
      "최초 시작시 Question모델 데이터 개수 :  0\n",
      "최종 작업 이후 Question모델 데이터 개수 :  20\n",
      "작업 진행 데이터 개수 :  20\n"
     ]
    }
   ],
   "source": [
    "a = 0\n",
    "with app.app_context():\n",
    "    print('최초 시작시 Question모델 데이터 개수 : ',Question.query.count())\n",
    "    for row in range(1, ws.max_row+1):\n",
    "        try:\n",
    "            #user = User(username='shin12352', password='shin_123452', email='shin52@naver.com')\n",
    "            #user = User(username=ws.cell(row,1).value, password=ws.cell(row,2).value, email=ws.cell(row,3).value)\n",
    "            question = Question(our_ref=ws.cell(row,1).value, pay_date=ws.cell(row,2).value, req_name=ws.cell(row,3).value, cus_name=ws.cell(row,4).value, date=ws.cell(row,5).value, number=ws.cell(row,6).value, q_date=ws.cell(row,7).value, q_d_date=ws.cell(row,8).value, d_d_date=ws.cell(row,9).value, d_d_num=ws.cell(row,10).value, p_name=ws.cell(row,11).value, charge_01=ws.cell(row,12).value, charge_02=ws.cell(row,13).value, p_charge=ws.cell(row,14).value, create_date=datetime.now())\n",
    "            #user = User(username=ws.cell(row,1).value, password=ws.cell(row,2).value, email=ws.cell(row,3).value)\n",
    "            #print(question)\n",
    "            db.session.add(question)\n",
    "            db.session.commit()\n",
    "            #print('사용자 정보를 생성 하였습니다.')\n",
    "        except:\n",
    "            db.session.rollback()\n",
    "            #print('입력에 에러가 발생 하였습니다.')\n",
    "            pass\n",
    "        finally:\n",
    "            db.session.close()\n",
    "        #print(a,\" 번째 작업을 종료 합니다.\")\n",
    "        a = a+1\n",
    "        #print('='*10)\n",
    "\n",
    "print(\"최종 작업 이후 Question모델 데이터 개수 : \", Question.query.count())\n",
    "print(\"작업 진행 데이터 개수 : \", a)"
   ]
  },
  {
   "cell_type": "markdown",
   "id": "162222e8",
   "metadata": {},
   "source": [
    "▲▲▲ 이상 예제 종료(question_list에 적용하는것 => ss_project 적용)"
   ]
  },
  {
   "cell_type": "markdown",
   "id": "37d0dd64",
   "metadata": {},
   "source": [
    "▼▼▼▼ 이하 신규 데이터 입력부 시작_0719"
   ]
  },
  {
   "cell_type": "code",
   "execution_count": 75,
   "id": "320e1fb6",
   "metadata": {},
   "outputs": [],
   "source": [
    "from openpyxl import load_workbook"
   ]
  },
  {
   "cell_type": "code",
   "execution_count": 10,
   "id": "8629a890",
   "metadata": {},
   "outputs": [
    {
     "data": {
      "text/plain": [
       "<Worksheet \"Sheet1\">"
      ]
     },
     "execution_count": 10,
     "metadata": {},
     "output_type": "execute_result"
    }
   ],
   "source": [
    "wb = load_workbook(filename='db_test.xlsx')\n",
    "ws = wb.active\n",
    "ws"
   ]
  },
  {
   "cell_type": "code",
   "execution_count": 11,
   "id": "540e399f",
   "metadata": {},
   "outputs": [
    {
     "name": "stdout",
     "output_type": "stream",
     "text": [
      "20\n"
     ]
    }
   ],
   "source": [
    "print(Question.query.count())"
   ]
  },
  {
   "cell_type": "code",
   "execution_count": 8,
   "id": "dcb7eb21",
   "metadata": {},
   "outputs": [
    {
     "data": {
      "text/plain": [
       "[<Question 1>,\n",
       " <Question 2>,\n",
       " <Question 3>,\n",
       " <Question 4>,\n",
       " <Question 5>,\n",
       " <Question 6>,\n",
       " <Question 7>,\n",
       " <Question 8>,\n",
       " <Question 9>,\n",
       " <Question 10>,\n",
       " <Question 11>,\n",
       " <Question 12>,\n",
       " <Question 13>,\n",
       " <Question 14>,\n",
       " <Question 15>,\n",
       " <Question 16>,\n",
       " <Question 17>,\n",
       " <Question 18>,\n",
       " <Question 19>,\n",
       " <Question 20>]"
      ]
     },
     "execution_count": 8,
     "metadata": {},
     "output_type": "execute_result"
    }
   ],
   "source": [
    "Question.query.all()"
   ]
  },
  {
   "cell_type": "code",
   "execution_count": 31,
   "id": "ac319c11",
   "metadata": {},
   "outputs": [],
   "source": [
    "q = Question.query.get(2)"
   ]
  },
  {
   "cell_type": "code",
   "execution_count": 32,
   "id": "25b0b105",
   "metadata": {},
   "outputs": [
    {
     "data": {
      "text/plain": [
       "<Question 2>"
      ]
     },
     "execution_count": 32,
     "metadata": {},
     "output_type": "execute_result"
    }
   ],
   "source": [
    "q"
   ]
  },
  {
   "cell_type": "code",
   "execution_count": 33,
   "id": "e63d78a1",
   "metadata": {},
   "outputs": [
    {
     "data": {
      "text/plain": [
       "'D211115'"
      ]
     },
     "execution_count": 33,
     "metadata": {},
     "output_type": "execute_result"
    }
   ],
   "source": [
    "q.our_ref"
   ]
  },
  {
   "cell_type": "code",
   "execution_count": 44,
   "id": "8d212e9a",
   "metadata": {},
   "outputs": [
    {
     "data": {
      "text/plain": [
       "[<Question 2>]"
      ]
     },
     "execution_count": 44,
     "metadata": {},
     "output_type": "execute_result"
    }
   ],
   "source": [
    "Question.query.filter(Question.our_ref.ilike('D211115')).all()"
   ]
  },
  {
   "cell_type": "code",
   "execution_count": 45,
   "id": "1ee86691",
   "metadata": {},
   "outputs": [],
   "source": [
    "test_b=Question.query.filter(Question.our_ref.ilike('D211115')).all()"
   ]
  },
  {
   "cell_type": "code",
   "execution_count": 46,
   "id": "e7a16ec2",
   "metadata": {},
   "outputs": [
    {
     "data": {
      "text/plain": [
       "[<Question 2>]"
      ]
     },
     "execution_count": 46,
     "metadata": {},
     "output_type": "execute_result"
    }
   ],
   "source": [
    "test_b"
   ]
  },
  {
   "cell_type": "code",
   "execution_count": 37,
   "id": "c62f782a",
   "metadata": {},
   "outputs": [
    {
     "name": "stdout",
     "output_type": "stream",
     "text": [
      "최초 시작시 Question모델 데이터 개수 :  20\n",
      "D211114\n",
      "D211115\n",
      "D211116\n",
      "P212398\n",
      "P212400\n",
      "P212412\n",
      "P211279-RE\n",
      "P212405\n",
      "P212418\n",
      "P212430-DIV1\n",
      "P212430-DIV2\n",
      "P212419\n",
      "P212420\n",
      "P212421\n",
      "P211363-PRO2\n",
      "P212441\n",
      "P209250-DIV1\n",
      "P212439-PRO1\n",
      "P212439-PRO2\n",
      "P212434-PRO1\n"
     ]
    }
   ],
   "source": [
    "a = 0\n",
    "same_count = 0\n",
    "with app.app_context():\n",
    "    print('최초 시작시 Question모델 데이터 개수 : ',Question.query.count())\n",
    "    for row in range(1, ws.max_row+1):\n",
    "        print_ques=ws.cell(row,1).value\n",
    "        #print_ques=ws.cell(row,3) <-- 위치값을 표시한다.\n",
    "        print(print_ques)\n",
    "        \n",
    "        "
   ]
  },
  {
   "cell_type": "markdown",
   "id": "4f1b9ace",
   "metadata": {},
   "source": [
    "이 다음은 엑셀 파일에서 읽은값과 기존 question모델의 db 값과 같은지 확인해보자."
   ]
  },
  {
   "cell_type": "code",
   "execution_count": 15,
   "id": "79c7b742",
   "metadata": {},
   "outputs": [
    {
     "name": "stdout",
     "output_type": "stream",
     "text": [
      "최초 시작시 Question모델 데이터 개수 :  20\n",
      "[<Question 1>]\n",
      "[<Question 2>]\n",
      "[<Question 3>]\n",
      "[<Question 4>]\n",
      "[<Question 5>]\n",
      "[<Question 6>]\n",
      "[<Question 7>]\n",
      "[<Question 8>]\n",
      "[<Question 9>]\n",
      "[<Question 10>]\n",
      "[<Question 11>]\n",
      "[<Question 12>]\n",
      "[<Question 13>]\n",
      "[<Question 14>]\n",
      "[<Question 15>]\n",
      "[<Question 16>]\n",
      "[<Question 17>]\n",
      "[<Question 18>]\n",
      "[<Question 19>]\n",
      "[<Question 20>]\n"
     ]
    }
   ],
   "source": [
    "a = 0\n",
    "same_count = 0\n",
    "with app.app_context():\n",
    "    print('최초 시작시 Question모델 데이터 개수 : ',Question.query.count())\n",
    "    for row in range(1, ws.max_row+1):\n",
    "        # 엑셀 파일 내에 하나씩 읽어 오는 값을~~\n",
    "        # 기존의 데이터와 비교해야 겠다.\n",
    "        print_ques=ws.cell(row,1).value #<---- 엑셀 sheet의 our_ref값\n",
    "        #print(print_ques)\n",
    "        #엑셀 sheet의 our_ref값 기준으로\n",
    "        #Question모델의 id값을 찾아보자. <-- 모델의 전체 값을 filter기능으로 찾는것 테스트\n",
    "        test_bb=Question.query.filter(Question.our_ref.ilike(print_ques)).all()\n",
    "        print(test_bb)\n",
    "        # => db내 해당 자료값 찾기 완료\n",
    "        \n",
    "        \n",
    "        "
   ]
  },
  {
   "cell_type": "markdown",
   "id": "544fc550",
   "metadata": {},
   "source": [
    "활용 엑셀 파일 내 our_ref 값 기준 db내 해당값 찾기를 완료 하였다."
   ]
  },
  {
   "cell_type": "markdown",
   "id": "3abe3412",
   "metadata": {},
   "source": [
    "이제 해당 내용을 수정할수 있도록 해보자."
   ]
  },
  {
   "cell_type": "code",
   "execution_count": 14,
   "id": "c9fcde7b",
   "metadata": {},
   "outputs": [
    {
     "name": "stdout",
     "output_type": "stream",
     "text": [
      "최초 시작시 Question모델 데이터 개수 :  20\n",
      "작업단계 :  1\n",
      "작업단계 :  2\n",
      "작업단계 :  3\n",
      "작업단계 :  4\n",
      "작업단계 :  5\n",
      "작업단계 :  6\n",
      "작업단계 :  7\n",
      "작업단계 :  8\n",
      "작업단계 :  9\n",
      "작업단계 :  10\n",
      "작업단계 :  11\n",
      "작업단계 :  12\n",
      "작업단계 :  13\n",
      "작업단계 :  14\n",
      "작업단계 :  15\n",
      "작업단계 :  16\n",
      "작업단계 :  17\n",
      "작업단계 :  18\n",
      "작업단계 :  19\n",
      "작업단계 :  20\n"
     ]
    }
   ],
   "source": [
    "a = 0\n",
    "same_count = 0\n",
    "test_bb=[]\n",
    "with app.app_context():\n",
    "    print('최초 시작시 Question모델 데이터 개수 : ',Question.query.count())\n",
    "    for row in range(1, ws.max_row+1):\n",
    "        # 엑셀 파일 내에 하나씩 읽어 오는 값을~~\n",
    "        # 기존의 데이터와 비교해야 겠다.\n",
    "        print_ques=ws.cell(row,1).value #<---- 엑셀 sheet의 our_ref값\n",
    "        #print(print_ques)\n",
    "        \n",
    "        #엑셀 sheet의 our_ref값 기준으로\n",
    "        #Question모델의 id값을 찾아보자. <-- 모델의 전체 값을 filter기능으로 찾는것 테스트\n",
    "        test_bb=Question.query.filter(Question.our_ref.ilike(print_ques)).all()\n",
    "        #print(test_bb) #<-- 기존 리스트로 되어있다.\n",
    "        \n",
    "        \n",
    "        test_bb_00 = test_bb[0] #<-- 리스트내 값만 가져온다.\n",
    "        #print(test_bb_00)\n",
    "        # => db내 해당 자료값 찾기 완료\n",
    "        \n",
    "        \n",
    "        test_bb_00.our_ref=ws.cell(row,1).value\n",
    "        #question_input=test_bb_00(our_ref=ws.cell(row,1).value, pay_date=ws.cell(row,2).value, req_name=ws.cell(row,3).value, cus_name=ws.cell(row,4).value, date=ws.cell(row,5).value, number=ws.cell(row,6).value, q_date=ws.cell(row,7).value, q_d_date=ws.cell(row,8).value, d_d_date=ws.cell(row,9).value, d_d_num=ws.cell(row,10).value, p_name=ws.cell(row,11).value, charge_01=ws.cell(row,12).value, charge_02=ws.cell(row,13).value, p_charge=ws.cell(row,14).value, create_date=datetime.now())\n",
    "        db.session.commit()\n",
    "        same_count = same_count +1\n",
    "        print('작업단계 : ', same_count)\n",
    "        \n",
    "        #성공 ===>>> 중요!!! 해당 내용은 our_ref값 기준으로 데이터를 찾고 수정하는것이다.\n",
    "        # 본 예제에서는 our_ref값도 동일하게 변경하였지만 이후, our_ref값을 변경시키지 말고 다른 데이터를\n",
    "        # 변경 시키는것을 해라"
   ]
  },
  {
   "cell_type": "markdown",
   "id": "80539718",
   "metadata": {},
   "source": [
    "▲▲▲▲ 위에까지 일단 원하는 기능 구현하였다."
   ]
  },
  {
   "cell_type": "markdown",
   "id": "65964c70",
   "metadata": {},
   "source": [
    "▼▼▼▼ 아래서부터는 해당 기능 테스트와 개선을 진행한다. 2022-07-21"
   ]
  },
  {
   "cell_type": "markdown",
   "id": "cb231d12",
   "metadata": {},
   "source": [
    "▼▼ 이번에는 \"데이터 수정 적용 테스트\" 를 실행해본다. 위에서는 our_ref값을 수정하는것으로 했지만"
   ]
  },
  {
   "cell_type": "markdown",
   "id": "8bddc16f",
   "metadata": {},
   "source": [
    "이제는 our_ref 기준으로 데이터 내 다른 열의 값을 수정하는 것을 목표로 하며 수정시 비어있는 cell 데이터가"
   ]
  },
  {
   "cell_type": "markdown",
   "id": "3d5a805c",
   "metadata": {},
   "source": [
    "어떻게 적용되는지(에러없이 되는지) 확인하는 단계이다."
   ]
  },
  {
   "cell_type": "code",
   "execution_count": 12,
   "id": "c951f212",
   "metadata": {
    "collapsed": true
   },
   "outputs": [
    {
     "name": "stdout",
     "output_type": "stream",
     "text": [
      "최초 시작시 Question모델 데이터 개수 :  20\n",
      "작업단계 :  1\n",
      "작업단계 :  2\n",
      "작업단계 :  3\n",
      "작업단계 :  4\n",
      "작업단계 :  5\n",
      "작업단계 :  6\n",
      "작업단계 :  7\n",
      "작업단계 :  8\n",
      "작업단계 :  9\n",
      "작업단계 :  10\n",
      "작업단계 :  11\n",
      "작업단계 :  12\n",
      "작업단계 :  13\n",
      "작업단계 :  14\n",
      "작업단계 :  15\n",
      "작업단계 :  16\n",
      "작업단계 :  17\n",
      "작업단계 :  18\n",
      "작업단계 :  19\n",
      "작업단계 :  20\n"
     ]
    }
   ],
   "source": [
    "a = 0\n",
    "same_count = 0\n",
    "test_bb=[]\n",
    "with app.app_context():\n",
    "    print('최초 시작시 Question모델 데이터 개수 : ',Question.query.count())\n",
    "    for row in range(1, ws.max_row+1):\n",
    "        # 엑셀 파일 내에 하나씩 읽어 오는 값을~~\n",
    "        # 기존의 데이터와 비교해야 겠다.\n",
    "        print_ques=ws.cell(row,1).value #<---- 엑셀 sheet의 our_ref값\n",
    "        #print(print_ques)\n",
    "        \n",
    "        #엑셀 sheet의 our_ref값 기준으로\n",
    "        #Question모델의 id값을 찾아보자. <-- 모델의 전체 값을 filter기능으로 찾는것 테스트\n",
    "        test_bb=Question.query.filter(Question.our_ref.ilike(print_ques)).all()\n",
    "        #print(test_bb) #<-- 기존 리스트로 되어있다.\n",
    "        \n",
    "        \n",
    "        test_bb_00 = test_bb[0] #<-- 리스트내 값만 가져온다.\n",
    "        #print(test_bb_00)\n",
    "        # => db내 해당 자료값 찾기 완료\n",
    "        \n",
    "        \"\"\"\n",
    "        ▼▼▼ 이하 our_ref 값 기준으로 데이터네 열 값 수정 테스트 진행\n",
    "        \"\"\"\n",
    "        #test_bb_00.our_ref=ws.cell(row,1).value #<--- 해당 부분\n",
    "        test_bb_00.pay_date=ws.cell(row,2).value #<--- pay_date 기준 적용되게(해당부분 null값 존재)\n",
    "        \n",
    "        #question_input=test_bb_00(our_ref=ws.cell(row,1).value, pay_date=ws.cell(row,2).value, req_name=ws.cell(row,3).value, cus_name=ws.cell(row,4).value, date=ws.cell(row,5).value, number=ws.cell(row,6).value, q_date=ws.cell(row,7).value, q_d_date=ws.cell(row,8).value, d_d_date=ws.cell(row,9).value, d_d_num=ws.cell(row,10).value, p_name=ws.cell(row,11).value, charge_01=ws.cell(row,12).value, charge_02=ws.cell(row,13).value, p_charge=ws.cell(row,14).value, create_date=datetime.now())\n",
    "        db.session.commit()\n",
    "        same_count = same_count +1\n",
    "        print('작업단계 : ', same_count)\n",
    "        \"\"\"\n",
    "        ▲▲▲\n",
    "        \"\"\"\n",
    "        \n",
    "        #성공 ===>>> 중요!!! 해당 내용은 our_ref값 기준으로 데이터를 찾고 수정하는것이다.\n",
    "        # 본 예제에서는 our_ref값도 동일하게 변경하였지만 이후, our_ref값을 변경시키지 말고 다른 데이터를\n",
    "        # 변경 시키는것을 해라"
   ]
  },
  {
   "cell_type": "markdown",
   "id": "a81c800e",
   "metadata": {},
   "source": [
    "▲▲  \"데이터 수정 적용 테스트\"  성공"
   ]
  },
  {
   "cell_type": "markdown",
   "id": "6a94977c",
   "metadata": {},
   "source": [
    "▼▼ 데이터 업로드 기능 수정하기_02_시작_220721"
   ]
  },
  {
   "cell_type": "markdown",
   "id": "9c0c57f8",
   "metadata": {},
   "source": [
    "목표 : 엑셀 데이터 sheet에서 가져온 our_ref값이 데이터파일내 our_ref값중 해당되는게 있는지 참,거짓 형태로 출력하기(if문)"
   ]
  },
  {
   "cell_type": "code",
   "execution_count": 13,
   "id": "ac82c9cc",
   "metadata": {},
   "outputs": [
    {
     "name": "stdout",
     "output_type": "stream",
     "text": [
      "최초 시작시 Question모델 데이터 개수 :  20\n",
      "D211114\n",
      "D211115\n",
      "D211116\n",
      "P212398\n",
      "P212400\n",
      "P212412\n",
      "P211279-RE\n",
      "P212405\n",
      "P212418\n",
      "P212430-DIV1\n",
      "P212430-DIV2\n",
      "P212419\n",
      "P212420\n",
      "P212421\n",
      "P211363-PRO2\n",
      "P212441\n",
      "P209250-DIV1\n",
      "P212439-PRO1\n",
      "P212439-PRO2\n",
      "P212434-PRO1\n"
     ]
    }
   ],
   "source": [
    "a = 0\n",
    "same_count = 0\n",
    "test_bb=[]\n",
    "with app.app_context():\n",
    "    print('최초 시작시 Question모델 데이터 개수 : ',Question.query.count())\n",
    "    for row in range(1, ws.max_row+1):\n",
    "        # 엑셀 파일 내에 하나씩 읽어 오는 값을~~\n",
    "        # 기존의 데이터와 비교해야 겠다.\n",
    "        print_ques=ws.cell(row,1).value #<---- 엑셀 sheet의 our_ref값\n",
    "        print(print_ques)"
   ]
  },
  {
   "cell_type": "code",
   "execution_count": null,
   "id": "7dc8ffdf",
   "metadata": {},
   "outputs": [],
   "source": []
  },
  {
   "cell_type": "code",
   "execution_count": null,
   "id": "700dbee2",
   "metadata": {},
   "outputs": [],
   "source": []
  },
  {
   "cell_type": "code",
   "execution_count": 79,
   "id": "c2ec8146",
   "metadata": {},
   "outputs": [],
   "source": [
    "q = Question.query.get(2)"
   ]
  },
  {
   "cell_type": "code",
   "execution_count": 80,
   "id": "d3a491cd",
   "metadata": {},
   "outputs": [
    {
     "data": {
      "text/plain": [
       "<Question 2>"
      ]
     },
     "execution_count": 80,
     "metadata": {},
     "output_type": "execute_result"
    }
   ],
   "source": [
    "q"
   ]
  },
  {
   "cell_type": "code",
   "execution_count": 56,
   "id": "76720d8f",
   "metadata": {},
   "outputs": [],
   "source": [
    "q.our_ref='값 입력 테스트'"
   ]
  },
  {
   "cell_type": "code",
   "execution_count": 57,
   "id": "777b68bd",
   "metadata": {},
   "outputs": [],
   "source": [
    "db.session.commit()"
   ]
  },
  {
   "cell_type": "markdown",
   "id": "01bffb5a",
   "metadata": {},
   "source": [
    "#-------------"
   ]
  },
  {
   "cell_type": "markdown",
   "id": "3749316a",
   "metadata": {},
   "source": [
    "#-------------"
   ]
  },
  {
   "cell_type": "markdown",
   "id": "ea9c99cc",
   "metadata": {},
   "source": [
    "▼▼▼ 이하 예제 시작(pybo 예제)"
   ]
  },
  {
   "cell_type": "code",
   "execution_count": 1,
   "id": "55e6a8ac",
   "metadata": {},
   "outputs": [],
   "source": [
    "from pybo.models import User\n",
    "from pybo import db"
   ]
  },
  {
   "cell_type": "code",
   "execution_count": 2,
   "id": "5854c040",
   "metadata": {},
   "outputs": [],
   "source": [
    "from pybo.forms import UserCreateForm, UserLoginForm\n",
    "from flask import Blueprint, url_for, render_template, flash, request, session, g\n",
    "from werkzeug.security import generate_password_hash, check_password_hash\n",
    "from werkzeug.utils import redirect"
   ]
  },
  {
   "cell_type": "code",
   "execution_count": 3,
   "id": "020f7bb7",
   "metadata": {},
   "outputs": [],
   "source": [
    "from flask import Flask\n",
    "from flask_migrate import Migrate\n",
    "from flask_sqlalchemy import SQLAlchemy\n",
    "from sqlalchemy import MetaData\n",
    "import config\n",
    "import config\n"
   ]
  },
  {
   "cell_type": "code",
   "execution_count": 4,
   "id": "6e6470d5",
   "metadata": {},
   "outputs": [],
   "source": [
    "from pybo import db\n",
    "import pybo"
   ]
  },
  {
   "cell_type": "code",
   "execution_count": 5,
   "id": "d46b32df",
   "metadata": {},
   "outputs": [],
   "source": [
    "from openpyxl import load_workbook\n",
    "from pybo.models import User\n",
    "from datetime import datetime\n",
    "from pybo import db, create_app\n",
    "import pybo"
   ]
  },
  {
   "cell_type": "markdown",
   "id": "299cdfaa",
   "metadata": {},
   "source": [
    "▼▼▼ 예제중에 이게 있어야 했다."
   ]
  },
  {
   "cell_type": "code",
   "execution_count": 6,
   "id": "ba289e24",
   "metadata": {},
   "outputs": [],
   "source": [
    "from pybo import create_app\n",
    "pybo = create_app()\n",
    "pybo.app_context().push()"
   ]
  },
  {
   "cell_type": "markdown",
   "id": "b9857c42",
   "metadata": {},
   "source": [
    "▲▲▲ 예제중에 이게 있어야 했다."
   ]
  },
  {
   "cell_type": "code",
   "execution_count": 18,
   "id": "e370aed9",
   "metadata": {},
   "outputs": [
    {
     "name": "stdout",
     "output_type": "stream",
     "text": [
      "14\n"
     ]
    }
   ],
   "source": [
    "print(User.query.count())"
   ]
  },
  {
   "cell_type": "code",
   "execution_count": 12,
   "id": "41ced9ac",
   "metadata": {},
   "outputs": [],
   "source": [
    "\n",
    "app = Flask(__name__)\n",
    "app.config.from_object(config)\n",
    "    #app.config 환경 변수로 부르기 위해 app.config.from_object(config)코드를 추가함"
   ]
  },
  {
   "cell_type": "code",
   "execution_count": 44,
   "id": "a1501ad4",
   "metadata": {},
   "outputs": [
    {
     "name": "stdout",
     "output_type": "stream",
     "text": [
      "5\n",
      "<User (transient 2597423975248)>\n",
      "6\n"
     ]
    }
   ],
   "source": [
    "with app.app_context():\n",
    "    print(User.query.count())\n",
    "    try:\n",
    "        user = User(username='shin12350', password='shin_123450', email='shin50@naver.com')\n",
    "        print(user)\n",
    "        db.session.add(user)\n",
    "        db.session.commit()\n",
    "        print(User.query.count())\n",
    "    except:\n",
    "        db.session.rollback()\n",
    "        raise\n",
    "    finally:\n",
    "        db.session.close()\n",
    "    #db.create_all()"
   ]
  },
  {
   "cell_type": "code",
   "execution_count": 49,
   "id": "cb1274cd",
   "metadata": {},
   "outputs": [
    {
     "name": "stdout",
     "output_type": "stream",
     "text": [
      "7\n",
      "<User (transient 2597424733200)>\n",
      "8\n",
      "사용자 정보를 생성 하였습니다.\n",
      "종료\n"
     ]
    }
   ],
   "source": [
    "with app.app_context():\n",
    "    print(User.query.count())\n",
    "    try:\n",
    "        user = User(username='shin12352', password='shin_123452', email='shin52@naver.com')\n",
    "        print(user)\n",
    "        db.session.add(user)\n",
    "        db.session.commit()\n",
    "        print(User.query.count())\n",
    "        print('사용자 정보를 생성 하였습니다.')\n",
    "    except:\n",
    "        db.session.rollback()\n",
    "        #raise\n",
    "        print('사용중인 사용자 정보가 있습니다.')\n",
    "        pass\n",
    "    finally:\n",
    "        db.session.close()\n",
    "    #db.create_all()\n",
    "print('종료')"
   ]
  },
  {
   "cell_type": "markdown",
   "id": "ca735e60",
   "metadata": {},
   "source": [
    "이제 연속해서 하는걸 해보자"
   ]
  },
  {
   "cell_type": "markdown",
   "id": "63ee2f7d",
   "metadata": {},
   "source": [
    "원래 볼려고했던 최초 예제 참고"
   ]
  },
  {
   "cell_type": "code",
   "execution_count": 27,
   "id": "3f5698e3",
   "metadata": {},
   "outputs": [],
   "source": [
    "from openpyxl import load_workbook"
   ]
  },
  {
   "cell_type": "code",
   "execution_count": 32,
   "id": "cdca9d09",
   "metadata": {},
   "outputs": [],
   "source": [
    "wb = load_workbook(filename='db_test.xlsx')\n",
    "ws = wb.active"
   ]
  },
  {
   "cell_type": "code",
   "execution_count": 33,
   "id": "5d7e15f8",
   "metadata": {},
   "outputs": [
    {
     "data": {
      "text/plain": [
       "<Worksheet \"Sheet1\">"
      ]
     },
     "execution_count": 33,
     "metadata": {},
     "output_type": "execute_result"
    }
   ],
   "source": [
    "ws"
   ]
  },
  {
   "cell_type": "code",
   "execution_count": 34,
   "id": "19687a64",
   "metadata": {},
   "outputs": [
    {
     "name": "stdout",
     "output_type": "stream",
     "text": [
      "20\n"
     ]
    }
   ],
   "source": [
    "print(User.query.count())"
   ]
  },
  {
   "cell_type": "code",
   "execution_count": 35,
   "id": "086ab33d",
   "metadata": {},
   "outputs": [
    {
     "name": "stdout",
     "output_type": "stream",
     "text": [
      "최초 시작시 User모델 데이터 개수 :  20\n",
      "<User (transient 2788504735120)>\n",
      "입력에 에러가 발생 하였습니다.\n",
      "0  번째 작업을 종료 합니다.\n",
      "==========\n",
      "<User (transient 2788492368432)>\n",
      "입력에 에러가 발생 하였습니다.\n",
      "1  번째 작업을 종료 합니다.\n",
      "==========\n",
      "<User (transient 2788504493984)>\n",
      "입력에 에러가 발생 하였습니다.\n",
      "2  번째 작업을 종료 합니다.\n",
      "==========\n",
      "<User (transient 2788504735504)>\n",
      "입력에 에러가 발생 하였습니다.\n",
      "3  번째 작업을 종료 합니다.\n",
      "==========\n",
      "<User (transient 2788504599952)>\n",
      "입력에 에러가 발생 하였습니다.\n",
      "4  번째 작업을 종료 합니다.\n",
      "==========\n",
      "<User (transient 2788504694016)>\n",
      "입력에 에러가 발생 하였습니다.\n",
      "5  번째 작업을 종료 합니다.\n",
      "==========\n",
      "<User (transient 2788504597072)>\n",
      "입력에 에러가 발생 하였습니다.\n",
      "6  번째 작업을 종료 합니다.\n",
      "==========\n",
      "<User (transient 2788492356000)>\n",
      "입력에 에러가 발생 하였습니다.\n",
      "7  번째 작업을 종료 합니다.\n",
      "==========\n",
      "<User (transient 2788504598368)>\n",
      "입력에 에러가 발생 하였습니다.\n",
      "8  번째 작업을 종료 합니다.\n",
      "==========\n",
      "<User (transient 2788504598080)>\n",
      "입력에 에러가 발생 하였습니다.\n",
      "9  번째 작업을 종료 합니다.\n",
      "==========\n",
      "<User (transient 2788504490192)>\n",
      "입력에 에러가 발생 하였습니다.\n",
      "10  번째 작업을 종료 합니다.\n",
      "==========\n",
      "최종 작업 이후 User모델 데이터 개수 :  20\n"
     ]
    }
   ],
   "source": [
    "a = 0\n",
    "with app.app_context():\n",
    "    print('최초 시작시 User모델 데이터 개수 : ',User.query.count())\n",
    "    for row in range(1, ws.max_row+1):\n",
    "        try:\n",
    "            #user = User(username='shin12352', password='shin_123452', email='shin52@naver.com')\n",
    "            user = User(username=ws.cell(row,1).value, password=ws.cell(row,2).value, email=ws.cell(row,3).value)\n",
    "            print(user)\n",
    "            db.session.add(user)\n",
    "            db.session.commit()\n",
    "            print('사용자 정보를 생성 하였습니다.')\n",
    "        except:\n",
    "            db.session.rollback()\n",
    "            print('입력에 에러가 발생 하였습니다.')\n",
    "            pass\n",
    "        finally:\n",
    "            db.session.close()\n",
    "        print(a,\" 번째 작업을 종료 합니다.\")\n",
    "        a = a+1\n",
    "        print('='*10)\n",
    "\n",
    "print(\"최종 작업 이후 User모델 데이터 개수 : \", User.query.count())"
   ]
  },
  {
   "cell_type": "code",
   "execution_count": null,
   "id": "0c517a71",
   "metadata": {},
   "outputs": [],
   "source": [
    "a = 0\n",
    "for row in range(1, ws.max_row+1):\n",
    "    #print(a)\n",
    "    vegan = ws.cell(row,1).value\n",
    "    print(vegan)\n",
    "    a = a+1\n",
    "    print(\"종료시점 a : \" ,a)\n",
    "    print(\"=\"*10)"
   ]
  },
  {
   "cell_type": "code",
   "execution_count": null,
   "id": "c3eccb9f",
   "metadata": {},
   "outputs": [],
   "source": [
    "with app.app_context():\n",
    "    print(User.query.count())\n",
    "    try:\n",
    "        user = User(username='shin12352', password='shin_123452', email='shin52@naver.com')\n",
    "        print(user)\n",
    "        db.session.add(user)\n",
    "        db.session.commit()\n",
    "        print(User.query.count())\n",
    "        print('사용자 정보를 생성 하였습니다.')\n",
    "    except:\n",
    "        db.session.rollback()\n",
    "        #raise\n",
    "        print('사용중인 사용자 정보가 있습니다.')\n",
    "        pass\n",
    "    finally:\n",
    "        db.session.close()\n",
    "    #db.create_all()\n",
    "print('종료')"
   ]
  }
 ],
 "metadata": {
  "kernelspec": {
   "display_name": "Python 3 (ipykernel)",
   "language": "python",
   "name": "python3"
  },
  "language_info": {
   "codemirror_mode": {
    "name": "ipython",
    "version": 3
   },
   "file_extension": ".py",
   "mimetype": "text/x-python",
   "name": "python",
   "nbconvert_exporter": "python",
   "pygments_lexer": "ipython3",
   "version": "3.8.11"
  }
 },
 "nbformat": 4,
 "nbformat_minor": 5
}
