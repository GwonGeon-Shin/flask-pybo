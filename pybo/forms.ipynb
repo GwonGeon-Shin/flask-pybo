{
 "cells": [
  {
   "cell_type": "code",
   "execution_count": null,
   "id": "a7a994d8",
   "metadata": {},
   "outputs": [],
   "source": [
    "from flask_wtf import FlaskForm\n",
    "from wtforms import StringField, TextAreaField\n",
    "from wtforms.validators import DataRequired\n",
    "\n",
    "# 이하 form 입력 내용 기재 되어야 하지만 본 프로젝트에서는 아직\n",
    "# 입력 부분에 대한 기능을 구현하지는 않음"
   ]
  }
 ],
 "metadata": {
  "kernelspec": {
   "display_name": "Python 3 (ipykernel)",
   "language": "python",
   "name": "python3"
  },
  "language_info": {
   "codemirror_mode": {
    "name": "ipython",
    "version": 3
   },
   "file_extension": ".py",
   "mimetype": "text/x-python",
   "name": "python",
   "nbconvert_exporter": "python",
   "pygments_lexer": "ipython3",
   "version": "3.8.11"
  }
 },
 "nbformat": 4,
 "nbformat_minor": 5
}
