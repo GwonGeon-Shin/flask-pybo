{
 "cells": [
  {
   "cell_type": "code",
   "execution_count": null,
   "id": "d72a8190",
   "metadata": {},
   "outputs": [],
   "source": [
    "from pybo import db\n",
    "\n",
    "class Question(db.Model):\n",
    "    id = db.Column(db.Integer, primary_key=True) # 기본키 생성, 고유값\n",
    "    our_ref = db.Column(db.Text(), nullable=True) # 엑셀시트 근거 (OurRef 자료)\n",
    "    pay_date = db.Column(db.Text(), nullable=True) # 요청에 근거(신규생성, 입금일자)\n",
    "    req_name = db.Column(db.Text(), nullable=True) # 엑셀시트 근거 (의뢰인 자료)\n",
    "    cus_name = db.Column(db.Text(), nullable=True) # 엑셀시트 근거 (출원인 자료)\n",
    "    date = db.Column(db.Text(), nullable=True) # 엑셀시트 근거 (출원일 자료)\n",
    "    number = db.Column(db.Text(), nullable=True) # 엑셀시트 근거 (출원번호 자료)\n",
    "    q_date = db.Column(db.Text(), nullable=True) # 엑셀시트 근거 (우선심사청구일 자료)\n",
    "    q_d_date = db.Column(db.Text(), nullable=True) # 엑셀시트 근거 (우선심사결정일 자료)\n",
    "    d_d_date = db.Column(db.Text(), nullable=True) # 엑셀시트 근거 (등록일 자료)\n",
    "    d_d_num = db.Column(db.Text(), nullable=True) # 엑셀시트 근거 (등록번호 자료)\n",
    "    p_name = db.Column(db.Text(), nullable=True) # 엑셀시트 근거 (국문명칭 자료)\n",
    "    charge_01 = db.Column(db.Text(), nullable=True) # 엑셀시트 근거 (담당자01 자료)\n",
    "    charge_02 = db.Column(db.Text(), nullable=True) # 엑셀시트 근거 (담당자02 자료)\n",
    "    p_charge = db.Column(db.Text(), nullable=True) # 엑셀시트 근거 (변리사명 자료)\n",
    "    create_date = db.Column(db.DateTime(), nullable=True) # 자료 작성일시 기록\n",
    "\n",
    "\n",
    "    "
   ]
  }
 ],
 "metadata": {
  "kernelspec": {
   "display_name": "Python 3 (ipykernel)",
   "language": "python",
   "name": "python3"
  },
  "language_info": {
   "codemirror_mode": {
    "name": "ipython",
    "version": 3
   },
   "file_extension": ".py",
   "mimetype": "text/x-python",
   "name": "python",
   "nbconvert_exporter": "python",
   "pygments_lexer": "ipython3",
   "version": "3.8.11"
  }
 },
 "nbformat": 4,
 "nbformat_minor": 5
}
