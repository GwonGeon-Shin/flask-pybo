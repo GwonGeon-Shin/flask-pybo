{
 "cells": [
  {
   "cell_type": "code",
   "execution_count": null,
   "id": "8bedd106",
   "metadata": {},
   "outputs": [],
   "source": [
    "from flask import Blueprint, url_for, render_template, flash, request\n",
    "from werkzeug.security import generate_password_hash\n",
    "from werkzeug.utils import redirect\n",
    "\n",
    "from pybo import db\n",
    "from pybo.forms import UserCreateForm\n",
    "from pybo.models import User\n",
    "\n",
    "bp = Blueprint('auth', __name__, url_prefix='/auth')\n",
    "\n",
    "@bp.route('/signup/', methods=('GET','POST'))\n",
    "def signup():\n",
    "    form = UserCreateForm()\n",
    "    if request.method =='POST' and form.validate_on_submit():\n",
    "        user = User.query.filter_by(emil = form.email.data).first()\n",
    "        # 기존에는 username=form.username.data 였지만 우리는 email 값으로 비교한다.\n",
    "        if not user:\n",
    "            user=User(username=form.username.data,\n",
    "                     password=generate_password_hash(form.password1.data),\n",
    "                     email=form.email.data)\n",
    "            db.session.add(user)\n",
    "            db.session.commit()\n",
    "            return redirect(url_for('main.index'))\n",
    "        else:\n",
    "            flash('이미 존재하는 e메일 계정 입니다.')\n",
    "    return render_template('auth/sighup.html', form=form)"
   ]
  }
 ],
 "metadata": {
  "kernelspec": {
   "display_name": "Python 3 (ipykernel)",
   "language": "python",
   "name": "python3"
  },
  "language_info": {
   "codemirror_mode": {
    "name": "ipython",
    "version": 3
   },
   "file_extension": ".py",
   "mimetype": "text/x-python",
   "name": "python",
   "nbconvert_exporter": "python",
   "pygments_lexer": "ipython3",
   "version": "3.8.11"
  }
 },
 "nbformat": 4,
 "nbformat_minor": 5
}
