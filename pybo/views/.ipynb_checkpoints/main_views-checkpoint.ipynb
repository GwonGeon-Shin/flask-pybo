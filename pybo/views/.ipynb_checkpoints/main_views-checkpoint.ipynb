{
 "cells": [
  {
   "cell_type": "code",
   "execution_count": null,
   "id": "e567ddf3",
   "metadata": {},
   "outputs": [],
   "source": [
    "from flask import Blueprint\n",
    "\n",
    "bp = Blueprint('main', __name__, url_prefix='/')\n",
    "\n",
    "@bp.route('/')\n",
    "def hello_pybo():\n",
    "    return '상상특허 블루프린트 적용 예제 main_views.py'"
   ]
  }
 ],
 "metadata": {
  "kernelspec": {
   "display_name": "Python 3 (ipykernel)",
   "language": "python",
   "name": "python3"
  },
  "language_info": {
   "codemirror_mode": {
    "name": "ipython",
    "version": 3
   },
   "file_extension": ".py",
   "mimetype": "text/x-python",
   "name": "python",
   "nbconvert_exporter": "python",
   "pygments_lexer": "ipython3",
   "version": "3.8.11"
  }
 },
 "nbformat": 4,
 "nbformat_minor": 5
}
