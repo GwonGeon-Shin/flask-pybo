{
 "cells": [
  {
   "cell_type": "code",
   "execution_count": null,
   "id": "ccd6ef84",
   "metadata": {},
   "outputs": [],
   "source": [
    "from flask import Blueprint, render_template\n",
    "\n",
    "from pybo.models import Question\n",
    "\n",
    "bp = Blueprint('question', __name__, url_prefix='/question')\n",
    "\n",
    "@bp.route('/list')\n",
    "def _list():\n",
    "    question_list=Question.query.order_by(Question.create_date.desc())\n",
    "    return render_template('question/question_list.html', question_list=question_list)\n",
    "\n",
    "#@bp.route('/detail/<int:question_id>/')\n",
    "#이하 내용은 아직 적용하지 않는다."
   ]
  }
 ],
 "metadata": {
  "kernelspec": {
   "display_name": "Python 3 (ipykernel)",
   "language": "python",
   "name": "python3"
  },
  "language_info": {
   "codemirror_mode": {
    "name": "ipython",
    "version": 3
   },
   "file_extension": ".py",
   "mimetype": "text/x-python",
   "name": "python",
   "nbconvert_exporter": "python",
   "pygments_lexer": "ipython3",
   "version": "3.8.11"
  }
 },
 "nbformat": 4,
 "nbformat_minor": 5
}
