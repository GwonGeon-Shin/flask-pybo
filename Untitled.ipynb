{
 "cells": [
  {
   "cell_type": "code",
   "execution_count": 9,
   "id": "7c5c4476",
   "metadata": {},
   "outputs": [],
   "source": [
    "user = \"테스트이름01\""
   ]
  },
  {
   "cell_type": "code",
   "execution_count": 10,
   "id": "99fbdaf3",
   "metadata": {},
   "outputs": [
    {
     "name": "stdout",
     "output_type": "stream",
     "text": [
      "1\n"
     ]
    }
   ],
   "source": [
    "if \"테스트이름\" in user:\n",
    "    print(1)\n",
    "else:\n",
    "    print(2)"
   ]
  }
 ],
 "metadata": {
  "kernelspec": {
   "display_name": "Python 3 (ipykernel)",
   "language": "python",
   "name": "python3"
  },
  "language_info": {
   "codemirror_mode": {
    "name": "ipython",
    "version": 3
   },
   "file_extension": ".py",
   "mimetype": "text/x-python",
   "name": "python",
   "nbconvert_exporter": "python",
   "pygments_lexer": "ipython3",
   "version": "3.8.11"
  }
 },
 "nbformat": 4,
 "nbformat_minor": 5
}
