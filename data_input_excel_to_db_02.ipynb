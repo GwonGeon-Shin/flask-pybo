{
 "cells": [
  {
   "cell_type": "markdown",
   "id": "6875fb17",
   "metadata": {},
   "source": [
    "data_input_excel_to_db 버전에서는 db 갯수 조회와 add하는것을 적용시켰다."
   ]
  },
  {
   "cell_type": "markdown",
   "id": "ed715f56",
   "metadata": {},
   "source": [
    "data_input_excel_to_db_02 버전에서는 기존 db 갯수 조회 및 삭제, 이후 add 시키는것을 적용시킨다."
   ]
  },
  {
   "cell_type": "markdown",
   "id": "973a26f3",
   "metadata": {},
   "source": [
    "▼▼▼ 이하 예제 시작(question_list에 적용하는것 => ss_project 적용)"
   ]
  },
  {
   "cell_type": "code",
   "execution_count": null,
   "id": "63bc8acd",
   "metadata": {},
   "outputs": [],
   "source": [
    "#데이터 삭제 구현 완료 , 중간 하드코딩 건너띄고, 연속 데이터 입력 적용 확인"
   ]
  },
  {
   "cell_type": "code",
   "execution_count": 42,
   "id": "be509649",
   "metadata": {},
   "outputs": [],
   "source": [
    "from pybo.models import Question\n",
    "from pybo import db\n",
    "\n",
    "from flask import Blueprint, url_for, render_template, flash, request, session\n",
    "\n",
    "from werkzeug.security import generate_password_hash, check_password_hash\n",
    "from werkzeug.utils import redirect\n",
    "\n",
    "from flask import Flask\n",
    "from flask_migrate import Migrate\n",
    "from flask_sqlalchemy import SQLAlchemy\n",
    "from sqlalchemy import MetaData\n",
    "import config\n",
    "\n",
    "import pybo\n",
    "\n",
    "from openpyxl import load_workbook\n",
    "from datetime import datetime\n",
    "from pybo import db, create_app\n",
    "\n",
    "from pybo import create_app\n",
    "pybo = create_app()\n",
    "pybo.app_context().push()"
   ]
  },
  {
   "cell_type": "code",
   "execution_count": 43,
   "id": "1bc0ecc9",
   "metadata": {},
   "outputs": [
    {
     "name": "stdout",
     "output_type": "stream",
     "text": [
      "899\n"
     ]
    }
   ],
   "source": [
    "print(Question.query.count())"
   ]
  },
  {
   "cell_type": "code",
   "execution_count": 44,
   "id": "e4edf810",
   "metadata": {},
   "outputs": [],
   "source": [
    "app = Flask(__name__)\n",
    "app.config.from_object(config)\n",
    "    #app.config 환경 변수로 부르기 위해 app.config.from_object(config)코드를 추가함"
   ]
  },
  {
   "cell_type": "code",
   "execution_count": null,
   "id": "63c26db1",
   "metadata": {},
   "outputs": [],
   "source": [
    "# 데이터 삭제시 각 내용을 리스트화 해서 id값이 다르게 점프해도 삭제할수 있도록"
   ]
  },
  {
   "cell_type": "code",
   "execution_count": 30,
   "id": "ec790aaf",
   "metadata": {},
   "outputs": [],
   "source": [
    "query_list_00=Question.query.all()"
   ]
  },
  {
   "cell_type": "code",
   "execution_count": 32,
   "id": "44a974ae",
   "metadata": {},
   "outputs": [
    {
     "data": {
      "text/plain": [
       "899"
      ]
     },
     "execution_count": 32,
     "metadata": {},
     "output_type": "execute_result"
    }
   ],
   "source": [
    "len(query_list_00)"
   ]
  },
  {
   "cell_type": "code",
   "execution_count": 33,
   "id": "35f44e77",
   "metadata": {},
   "outputs": [
    {
     "data": {
      "text/plain": [
       "<Question 1>"
      ]
     },
     "execution_count": 33,
     "metadata": {},
     "output_type": "execute_result"
    }
   ],
   "source": [
    "query_list_00[0]"
   ]
  },
  {
   "cell_type": "code",
   "execution_count": 20,
   "id": "1731c192",
   "metadata": {},
   "outputs": [
    {
     "name": "stdout",
     "output_type": "stream",
     "text": [
      "<Question 1000>\n"
     ]
    }
   ],
   "source": [
    "query_test=Question.query.get(1000)\n",
    "print(query_test)"
   ]
  },
  {
   "cell_type": "code",
   "execution_count": null,
   "id": "484a3119",
   "metadata": {},
   "outputs": [],
   "source": [
    "# 데이터 삭제시 각 내용을 리스트화 해서 id값이 다르게 점프해도 삭제할수 있도록"
   ]
  },
  {
   "cell_type": "code",
   "execution_count": null,
   "id": "0b07ecdf",
   "metadata": {},
   "outputs": [],
   "source": [
    "# 개선 내용 테스트 해본다."
   ]
  },
  {
   "cell_type": "code",
   "execution_count": 45,
   "id": "d219032f",
   "metadata": {},
   "outputs": [
    {
     "name": "stdout",
     "output_type": "stream",
     "text": [
      "최초 시작시 Question모델 데이터 개수 :  899\n",
      "최종 작업 이후 Question모델 데이터 개수 :  0\n",
      "작업 진행 데이터 개수 :  899\n"
     ]
    }
   ],
   "source": [
    "### 데이터 삭제 기능 개선_리스트화 적용\n",
    "data_count = 0\n",
    "query_list_00=Question.query.all()\n",
    "\n",
    "with app.app_context():\n",
    "    print('최초 시작시 Question모델 데이터 개수 : ', Question.query.count())\n",
    "    query_count_num = Question.query.count()\n",
    "    \n",
    "    for query_del_num in range(query_count_num):\n",
    "        query_del_test = query_list_00[query_del_num]\n",
    "        db.session.delete(query_del_test)\n",
    "        db.session.commit()\n",
    "        db.session.close()\n",
    "        data_count = data_count+1\n",
    "    \n",
    "print(\"최종 작업 이후 Question모델 데이터 개수 : \", Question.query.count())\n",
    "print(\"작업 진행 데이터 개수 : \", data_count)"
   ]
  },
  {
   "cell_type": "code",
   "execution_count": 38,
   "id": "8c6c1e6c",
   "metadata": {},
   "outputs": [],
   "source": [
    "query_list_00=Question.query.all()"
   ]
  },
  {
   "cell_type": "code",
   "execution_count": 40,
   "id": "5b44756a",
   "metadata": {
    "collapsed": true
   },
   "outputs": [
    {
     "name": "stdout",
     "output_type": "stream",
     "text": [
      "<Question 1>\n",
      "0\n",
      "<Question 2>\n",
      "1\n",
      "<Question 3>\n",
      "2\n",
      "<Question 4>\n",
      "3\n",
      "<Question 5>\n",
      "4\n",
      "<Question 6>\n",
      "5\n",
      "<Question 7>\n",
      "6\n",
      "<Question 8>\n",
      "7\n",
      "<Question 9>\n",
      "8\n",
      "<Question 10>\n",
      "9\n"
     ]
    }
   ],
   "source": [
    "d_num_test_shin = 0\n",
    "\n",
    "for num_test in range(10):\n",
    "    for_print = query_list_00[num_test]\n",
    "    print(for_print)\n",
    "    print(d_num_test_shin)\n",
    "    d_num_test_shin = d_num_test_shin +1\n",
    "    "
   ]
  },
  {
   "cell_type": "code",
   "execution_count": null,
   "id": "5caa724f",
   "metadata": {},
   "outputs": [],
   "source": []
  },
  {
   "cell_type": "code",
   "execution_count": 21,
   "id": "eddc0f39",
   "metadata": {},
   "outputs": [
    {
     "name": "stdout",
     "output_type": "stream",
     "text": [
      "최초 시작시 Question모델 데이터 개수 :  1307\n",
      "최종 작업 이후 Question모델 데이터 개수 :  0\n",
      "작업 진행 데이터 개수 :  1307\n"
     ]
    }
   ],
   "source": [
    "### 데이터 삭제 기능 시작\n",
    "data_count = 0\n",
    "\n",
    "with app.app_context():\n",
    "    print('최초 시작시 Question모델 데이터 개수 : ', Question.query.count())\n",
    "    query_count_num = Question.query.count()\n",
    "    \n",
    "    for query_del_num in range(1,query_count_num+1):\n",
    "        query_del_num_01 = Question.query.get(query_del_num) # id값을 cont 값 순번으로 하니 100번, 200번 이런식으로 뛰어넘는 id값을 못잡음\n",
    "        db.session.delete(query_del_num_01)\n",
    "        db.session.commit()\n",
    "        db.session.close()\n",
    "        data_count = data_count+1\n",
    "\n",
    "print(\"최종 작업 이후 Question모델 데이터 개수 : \", Question.query.count())\n",
    "print(\"작업 진행 데이터 개수 : \", data_count)"
   ]
  },
  {
   "cell_type": "code",
   "execution_count": null,
   "id": "cf7af1c2",
   "metadata": {},
   "outputs": [],
   "source": [
    "### 입력 부분 기능 시작"
   ]
  },
  {
   "cell_type": "code",
   "execution_count": 48,
   "id": "31501877",
   "metadata": {},
   "outputs": [
    {
     "name": "stdout",
     "output_type": "stream",
     "text": [
      "1307\n",
      "<Question (transient 2510857451936)>\n",
      "사용중인 question_list 정보가 있습니다.\n",
      "종료\n"
     ]
    }
   ],
   "source": [
    "#하드코딩 입력 테스트\n",
    "with app.app_context():\n",
    "    print(Question.query.count())\n",
    "    try:\n",
    "        question = Question(our_ref='P209250-DIV1', pay_date='', req_name='서영일/조희정 팀장(김민수(제제))', cus_name='서영일', date='2021-10-18', number='10-2021-0138507', q_date='', q_d_date='', d_d_date='', d_d_num='', p_name='고속으로 공기를 유동시키는 동물용 에어 브러쉬', charge_01='홍성권', charge_02='', p_charge='서평강', create_date=datetime.now())\n",
    "        #create_date=datetime.now() <-- 적용 성공\n",
    "        print(question)\n",
    "        db.session.add(question)\n",
    "        db.session.commit()\n",
    "        print(Question.query.count())\n",
    "        print('question_list 정보를 생성 하였습니다.')\n",
    "    except:\n",
    "        db.session.rollback()\n",
    "        #raise\n",
    "        print('사용중인 question_list 정보가 있습니다.')\n",
    "        pass\n",
    "    finally:\n",
    "        db.session.close()\n",
    "    #db.create_all()\n",
    "print('종료')"
   ]
  },
  {
   "cell_type": "markdown",
   "id": "05f6d83c",
   "metadata": {},
   "source": [
    "이제 연속해서 하는걸 해보자"
   ]
  },
  {
   "cell_type": "code",
   "execution_count": 22,
   "id": "a5bec312",
   "metadata": {},
   "outputs": [],
   "source": [
    "from openpyxl import load_workbook"
   ]
  },
  {
   "cell_type": "code",
   "execution_count": 23,
   "id": "64a7356c",
   "metadata": {},
   "outputs": [
    {
     "data": {
      "text/plain": [
       "<Worksheet \"Sheet1\">"
      ]
     },
     "execution_count": 23,
     "metadata": {},
     "output_type": "execute_result"
    }
   ],
   "source": [
    "wb = load_workbook(filename='db_test.xlsx')\n",
    "ws = wb.active\n",
    "ws"
   ]
  },
  {
   "cell_type": "code",
   "execution_count": 24,
   "id": "bb5a8c57",
   "metadata": {},
   "outputs": [
    {
     "name": "stdout",
     "output_type": "stream",
     "text": [
      "0\n"
     ]
    }
   ],
   "source": [
    "print(Question.query.count())"
   ]
  },
  {
   "cell_type": "code",
   "execution_count": 25,
   "id": "b6f6e577",
   "metadata": {
    "scrolled": true
   },
   "outputs": [
    {
     "name": "stdout",
     "output_type": "stream",
     "text": [
      "최초 시작시 Question모델 데이터 개수 :  0\n",
      "최종 작업 이후 Question모델 데이터 개수 :  1307\n",
      "작업 진행 데이터 개수 :  1308\n"
     ]
    }
   ],
   "source": [
    "a = 0\n",
    "with app.app_context():\n",
    "    print('최초 시작시 Question모델 데이터 개수 : ',Question.query.count())\n",
    "    for row in range(1, ws.max_row+1):\n",
    "        try:\n",
    "            #user = User(username='shin12352', password='shin_123452', email='shin52@naver.com')\n",
    "            #user = User(username=ws.cell(row,1).value, password=ws.cell(row,2).value, email=ws.cell(row,3).value)\n",
    "            question = Question(our_ref=ws.cell(row,1).value, pay_date=ws.cell(row,2).value, req_name=ws.cell(row,3).value, cus_name=ws.cell(row,4).value, date=ws.cell(row,5).value, number=ws.cell(row,6).value, q_date=ws.cell(row,7).value, q_d_date=ws.cell(row,8).value, d_d_date=ws.cell(row,9).value, d_d_num=ws.cell(row,10).value, p_name=ws.cell(row,11).value, charge_01=ws.cell(row,12).value, charge_02=ws.cell(row,13).value, p_charge=ws.cell(row,14).value, create_date=datetime.now())\n",
    "            #user = User(username=ws.cell(row,1).value, password=ws.cell(row,2).value, email=ws.cell(row,3).value)\n",
    "            #print(question)\n",
    "            db.session.add(question)\n",
    "            db.session.commit()\n",
    "            #print('사용자 정보를 생성 하였습니다.')\n",
    "        except:\n",
    "            db.session.rollback()\n",
    "            #print('입력에 에러가 발생 하였습니다.')\n",
    "            pass\n",
    "        finally:\n",
    "            db.session.close()\n",
    "        #print(a,\" 번째 작업을 종료 합니다.\")\n",
    "        a = a+1\n",
    "        #print('='*10)\n",
    "\n",
    "print(\"최종 작업 이후 Question모델 데이터 개수 : \", Question.query.count())\n",
    "print(\"작업 진행 데이터 개수 : \", a)"
   ]
  },
  {
   "cell_type": "markdown",
   "id": "162222e8",
   "metadata": {},
   "source": [
    "▲▲▲ 이상 예제 종료(question_list에 적용하는것 => ss_project 적용)"
   ]
  },
  {
   "cell_type": "markdown",
   "id": "01bffb5a",
   "metadata": {},
   "source": [
    "#-------------"
   ]
  },
  {
   "cell_type": "markdown",
   "id": "ea9c99cc",
   "metadata": {},
   "source": [
    "▼▼▼ 이하 예제 시작(pybo 예제)"
   ]
  },
  {
   "cell_type": "code",
   "execution_count": 1,
   "id": "55e6a8ac",
   "metadata": {},
   "outputs": [],
   "source": [
    "from pybo.models import User\n",
    "from pybo import db"
   ]
  },
  {
   "cell_type": "code",
   "execution_count": 2,
   "id": "5854c040",
   "metadata": {},
   "outputs": [],
   "source": [
    "from pybo.forms import UserCreateForm, UserLoginForm\n",
    "from flask import Blueprint, url_for, render_template, flash, request, session, g\n",
    "from werkzeug.security import generate_password_hash, check_password_hash\n",
    "from werkzeug.utils import redirect"
   ]
  },
  {
   "cell_type": "code",
   "execution_count": 3,
   "id": "020f7bb7",
   "metadata": {},
   "outputs": [],
   "source": [
    "from flask import Flask\n",
    "from flask_migrate import Migrate\n",
    "from flask_sqlalchemy import SQLAlchemy\n",
    "from sqlalchemy import MetaData\n",
    "import config\n",
    "import config\n"
   ]
  },
  {
   "cell_type": "code",
   "execution_count": 4,
   "id": "6e6470d5",
   "metadata": {},
   "outputs": [],
   "source": [
    "from pybo import db\n",
    "import pybo"
   ]
  },
  {
   "cell_type": "code",
   "execution_count": 5,
   "id": "d46b32df",
   "metadata": {},
   "outputs": [],
   "source": [
    "from openpyxl import load_workbook\n",
    "from pybo.models import User\n",
    "from datetime import datetime\n",
    "from pybo import db, create_app\n",
    "import pybo"
   ]
  },
  {
   "cell_type": "markdown",
   "id": "299cdfaa",
   "metadata": {},
   "source": [
    "▼▼▼ 예제중에 이게 있어야 했다."
   ]
  },
  {
   "cell_type": "code",
   "execution_count": 6,
   "id": "ba289e24",
   "metadata": {},
   "outputs": [],
   "source": [
    "from pybo import create_app\n",
    "pybo = create_app()\n",
    "pybo.app_context().push()"
   ]
  },
  {
   "cell_type": "markdown",
   "id": "b9857c42",
   "metadata": {},
   "source": [
    "▲▲▲ 예제중에 이게 있어야 했다."
   ]
  },
  {
   "cell_type": "code",
   "execution_count": 18,
   "id": "e370aed9",
   "metadata": {},
   "outputs": [
    {
     "name": "stdout",
     "output_type": "stream",
     "text": [
      "14\n"
     ]
    }
   ],
   "source": [
    "print(User.query.count())"
   ]
  },
  {
   "cell_type": "code",
   "execution_count": 12,
   "id": "41ced9ac",
   "metadata": {},
   "outputs": [],
   "source": [
    "\n",
    "app = Flask(__name__)\n",
    "app.config.from_object(config)\n",
    "    #app.config 환경 변수로 부르기 위해 app.config.from_object(config)코드를 추가함"
   ]
  },
  {
   "cell_type": "code",
   "execution_count": 44,
   "id": "a1501ad4",
   "metadata": {},
   "outputs": [
    {
     "name": "stdout",
     "output_type": "stream",
     "text": [
      "5\n",
      "<User (transient 2597423975248)>\n",
      "6\n"
     ]
    }
   ],
   "source": [
    "with app.app_context():\n",
    "    print(User.query.count())\n",
    "    try:\n",
    "        user = User(username='shin12350', password='shin_123450', email='shin50@naver.com')\n",
    "        print(user)\n",
    "        db.session.add(user)\n",
    "        db.session.commit()\n",
    "        print(User.query.count())\n",
    "    except:\n",
    "        db.session.rollback()\n",
    "        raise\n",
    "    finally:\n",
    "        db.session.close()\n",
    "    #db.create_all()"
   ]
  },
  {
   "cell_type": "code",
   "execution_count": 49,
   "id": "cb1274cd",
   "metadata": {},
   "outputs": [
    {
     "name": "stdout",
     "output_type": "stream",
     "text": [
      "7\n",
      "<User (transient 2597424733200)>\n",
      "8\n",
      "사용자 정보를 생성 하였습니다.\n",
      "종료\n"
     ]
    }
   ],
   "source": [
    "with app.app_context():\n",
    "    print(User.query.count())\n",
    "    try:\n",
    "        user = User(username='shin12352', password='shin_123452', email='shin52@naver.com')\n",
    "        print(user)\n",
    "        db.session.add(user)\n",
    "        db.session.commit()\n",
    "        print(User.query.count())\n",
    "        print('사용자 정보를 생성 하였습니다.')\n",
    "    except:\n",
    "        db.session.rollback()\n",
    "        #raise\n",
    "        print('사용중인 사용자 정보가 있습니다.')\n",
    "        pass\n",
    "    finally:\n",
    "        db.session.close()\n",
    "    #db.create_all()\n",
    "print('종료')"
   ]
  },
  {
   "cell_type": "markdown",
   "id": "ca735e60",
   "metadata": {},
   "source": [
    "이제 연속해서 하는걸 해보자"
   ]
  },
  {
   "cell_type": "markdown",
   "id": "63ee2f7d",
   "metadata": {},
   "source": [
    "원래 볼려고했던 최초 예제 참고"
   ]
  },
  {
   "cell_type": "code",
   "execution_count": 27,
   "id": "3f5698e3",
   "metadata": {},
   "outputs": [],
   "source": [
    "from openpyxl import load_workbook"
   ]
  },
  {
   "cell_type": "code",
   "execution_count": 32,
   "id": "cdca9d09",
   "metadata": {},
   "outputs": [],
   "source": [
    "wb = load_workbook(filename='db_test.xlsx')\n",
    "ws = wb.active"
   ]
  },
  {
   "cell_type": "code",
   "execution_count": 33,
   "id": "5d7e15f8",
   "metadata": {},
   "outputs": [
    {
     "data": {
      "text/plain": [
       "<Worksheet \"Sheet1\">"
      ]
     },
     "execution_count": 33,
     "metadata": {},
     "output_type": "execute_result"
    }
   ],
   "source": [
    "ws"
   ]
  },
  {
   "cell_type": "code",
   "execution_count": 34,
   "id": "19687a64",
   "metadata": {},
   "outputs": [
    {
     "name": "stdout",
     "output_type": "stream",
     "text": [
      "20\n"
     ]
    }
   ],
   "source": [
    "print(User.query.count())"
   ]
  },
  {
   "cell_type": "code",
   "execution_count": 35,
   "id": "086ab33d",
   "metadata": {},
   "outputs": [
    {
     "name": "stdout",
     "output_type": "stream",
     "text": [
      "최초 시작시 User모델 데이터 개수 :  20\n",
      "<User (transient 2788504735120)>\n",
      "입력에 에러가 발생 하였습니다.\n",
      "0  번째 작업을 종료 합니다.\n",
      "==========\n",
      "<User (transient 2788492368432)>\n",
      "입력에 에러가 발생 하였습니다.\n",
      "1  번째 작업을 종료 합니다.\n",
      "==========\n",
      "<User (transient 2788504493984)>\n",
      "입력에 에러가 발생 하였습니다.\n",
      "2  번째 작업을 종료 합니다.\n",
      "==========\n",
      "<User (transient 2788504735504)>\n",
      "입력에 에러가 발생 하였습니다.\n",
      "3  번째 작업을 종료 합니다.\n",
      "==========\n",
      "<User (transient 2788504599952)>\n",
      "입력에 에러가 발생 하였습니다.\n",
      "4  번째 작업을 종료 합니다.\n",
      "==========\n",
      "<User (transient 2788504694016)>\n",
      "입력에 에러가 발생 하였습니다.\n",
      "5  번째 작업을 종료 합니다.\n",
      "==========\n",
      "<User (transient 2788504597072)>\n",
      "입력에 에러가 발생 하였습니다.\n",
      "6  번째 작업을 종료 합니다.\n",
      "==========\n",
      "<User (transient 2788492356000)>\n",
      "입력에 에러가 발생 하였습니다.\n",
      "7  번째 작업을 종료 합니다.\n",
      "==========\n",
      "<User (transient 2788504598368)>\n",
      "입력에 에러가 발생 하였습니다.\n",
      "8  번째 작업을 종료 합니다.\n",
      "==========\n",
      "<User (transient 2788504598080)>\n",
      "입력에 에러가 발생 하였습니다.\n",
      "9  번째 작업을 종료 합니다.\n",
      "==========\n",
      "<User (transient 2788504490192)>\n",
      "입력에 에러가 발생 하였습니다.\n",
      "10  번째 작업을 종료 합니다.\n",
      "==========\n",
      "최종 작업 이후 User모델 데이터 개수 :  20\n"
     ]
    }
   ],
   "source": [
    "a = 0\n",
    "with app.app_context():\n",
    "    print('최초 시작시 User모델 데이터 개수 : ',User.query.count())\n",
    "    for row in range(1, ws.max_row+1):\n",
    "        try:\n",
    "            #user = User(username='shin12352', password='shin_123452', email='shin52@naver.com')\n",
    "            user = User(username=ws.cell(row,1).value, password=ws.cell(row,2).value, email=ws.cell(row,3).value)\n",
    "            print(user)\n",
    "            db.session.add(user)\n",
    "            db.session.commit()\n",
    "            print('사용자 정보를 생성 하였습니다.')\n",
    "        except:\n",
    "            db.session.rollback()\n",
    "            print('입력에 에러가 발생 하였습니다.')\n",
    "            pass\n",
    "        finally:\n",
    "            db.session.close()\n",
    "        print(a,\" 번째 작업을 종료 합니다.\")\n",
    "        a = a+1\n",
    "        print('='*10)\n",
    "\n",
    "print(\"최종 작업 이후 User모델 데이터 개수 : \", User.query.count())"
   ]
  },
  {
   "cell_type": "code",
   "execution_count": null,
   "id": "0c517a71",
   "metadata": {},
   "outputs": [],
   "source": [
    "a = 0\n",
    "for row in range(1, ws.max_row+1):\n",
    "    #print(a)\n",
    "    vegan = ws.cell(row,1).value\n",
    "    print(vegan)\n",
    "    a = a+1\n",
    "    print(\"종료시점 a : \" ,a)\n",
    "    print(\"=\"*10)"
   ]
  },
  {
   "cell_type": "code",
   "execution_count": null,
   "id": "c3eccb9f",
   "metadata": {},
   "outputs": [],
   "source": [
    "with app.app_context():\n",
    "    print(User.query.count())\n",
    "    try:\n",
    "        user = User(username='shin12352', password='shin_123452', email='shin52@naver.com')\n",
    "        print(user)\n",
    "        db.session.add(user)\n",
    "        db.session.commit()\n",
    "        print(User.query.count())\n",
    "        print('사용자 정보를 생성 하였습니다.')\n",
    "    except:\n",
    "        db.session.rollback()\n",
    "        #raise\n",
    "        print('사용중인 사용자 정보가 있습니다.')\n",
    "        pass\n",
    "    finally:\n",
    "        db.session.close()\n",
    "    #db.create_all()\n",
    "print('종료')"
   ]
  }
 ],
 "metadata": {
  "kernelspec": {
   "display_name": "Python 3 (ipykernel)",
   "language": "python",
   "name": "python3"
  },
  "language_info": {
   "codemirror_mode": {
    "name": "ipython",
    "version": 3
   },
   "file_extension": ".py",
   "mimetype": "text/x-python",
   "name": "python",
   "nbconvert_exporter": "python",
   "pygments_lexer": "ipython3",
   "version": "3.8.11"
  }
 },
 "nbformat": 4,
 "nbformat_minor": 5
}
