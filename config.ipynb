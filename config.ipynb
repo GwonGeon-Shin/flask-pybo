{
 "cells": [
  {
   "cell_type": "code",
   "execution_count": null,
   "id": "1eaa1daa",
   "metadata": {},
   "outputs": [],
   "source": [
    "import os\n",
    "\n",
    "BASE_DIR = os.path.dirname(__file__)\n",
    "\n",
    "SQLALCHEMY_DATABASE_URI = 'sqlite:///{}'.format(os.path.join(BASE_DIR,'pybo.db'))\n",
    "#SQLALCHEMY_DATABASE_URI => 데이터베이스 접속 주소\n",
    "SQLALCHEMY_TRACK_MODIFICATIONS = False\n",
    "#SQLALCHEMY_TRACK_MODIFICATIONS => SQLAlchemy의 이벤트 처리하는 옵션\n",
    "#해당 옵션은 현재 예제에서 불필요로 False로 비활성화"
   ]
  }
 ],
 "metadata": {
  "kernelspec": {
   "display_name": "Python 3 (ipykernel)",
   "language": "python",
   "name": "python3"
  },
  "language_info": {
   "codemirror_mode": {
    "name": "ipython",
    "version": 3
   },
   "file_extension": ".py",
   "mimetype": "text/x-python",
   "name": "python",
   "nbconvert_exporter": "python",
   "pygments_lexer": "ipython3",
   "version": "3.8.11"
  }
 },
 "nbformat": 4,
 "nbformat_minor": 5
}
